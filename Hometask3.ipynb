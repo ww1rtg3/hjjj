{
 "cells": [
  {
   "cell_type": "markdown",
   "metadata": {},
   "source": [
    "# Домашнее задание: модели классификации и оценка их качества.\n",
    "\n",
    "Бадаева Санчир, БЭК182"
   ]
  },
  {
   "cell_type": "markdown",
   "metadata": {},
   "source": [
    "## Часть 1. Обучение моделей классификации (5 баллов). \n",
    "\n",
    "Поработайте с датасетом telecom_churn. Вам предстоит по характеристикам клиента предсказать, уйдет он или нет (целевая колонка - Churn).\n",
    "\n",
    "A. Решите задачу с помощью логистической регрессии:\n",
    "- подберите значение гиперпараметров с помощью GridSearchCV\n",
    "Что вы можете сказать об алгоритме? Он переобучился/недообучился/обучился как надо и вы довольны качеством?\n",
    "\n",
    "B. Решите задачу с помощью метода опорных векторов (с kernel = 'linear'):\n",
    "- подберите значение гиперпараметров с помощью GridSearchCV\n",
    "Что вы можете сказать об алгоритме? Он переобучился/недообучился/обучился как надо и вы довольны качеством?\n",
    "\n",
    "Не забудьте масштабировать данные перед применением линейных моделей.\n",
    "\n",
    "C. Попробуйте увеличить число признаков с помощью добавления полиномиальных признаков. Также можно добавить функции от признаков вручную (те, которые вам кажутся подходящими в данной задаче).\n",
    "Улучшилось ли качество алгоритма?\n",
    "\n",
    "D. Постройте матрицу корреляций признаков. Есть ли признаки, которые практически не коррелируют с целевой переменной? Попробуйте их удалить. Есть ли пары сильно коррелирующих между собой признаков? Удалите по одному признаку из каждой пары.\n",
    "Помогло ли это улучшить качество в данной задаче?\n",
    "\n",
    "Пункты C и D можно скомбинировать для достижения наилучшего качества.\n",
    "\n",
    "E. Сделайте мини-отчет о проведенной работе. Для этого ответьте на вопросы:\n",
    "a) какой классификатор дал наилучший результат? чему равны значения метрик accuracy, f1-score и ROC-AUC? \n",
    "(Вы можете изначально разбить данные на train и test и сравнивать значения метрик на этих выборках; или же можно оценивать качество алгоритмов по кросс-валидации).\n",
    "\n",
    "b) какие новые признаки вы добавили и какие признаки удалили?\n",
    "\n",
    "c) удалось ли добиться того, что алгоритм не переобучился и не недообучился?"
   ]
  },
  {
   "cell_type": "code",
   "execution_count": 622,
   "metadata": {},
   "outputs": [
    {
     "name": "stdout",
     "output_type": "stream",
     "text": [
      "Populating the interactive namespace from numpy and matplotlib\n"
     ]
    }
   ],
   "source": [
    "import pandas as pd\n",
    "import numpy as np\n",
    "import matplotlib.pyplot as plt\n",
    "import seaborn as sns\n",
    "\n",
    "from category_encoders.ordinal import OrdinalEncoder\n",
    "from category_encoders.one_hot import OneHotEncoder\n",
    "from category_encoders.target_encoder import TargetEncoder\n",
    "\n",
    "from sklearn.linear_model import LogisticRegression\n",
    "from sklearn.svm import SVC\n",
    "\n",
    "from sklearn.pipeline import Pipeline\n",
    "from sklearn.preprocessing import StandardScaler\n",
    "\n",
    "from sklearn.metrics import roc_curve, auc\n",
    "\n",
    "from sklearn.model_selection import KFold\n",
    "\n",
    "from sklearn.metrics import accuracy_score, f1_score, recall_score, precision_score, confusion_matrix\n",
    "\n",
    "from sklearn.base import TransformerMixin\n",
    "\n",
    "from sklearn.model_selection import train_test_split, cross_validate, GridSearchCV\n",
    "\n",
    "import warnings\n",
    "warnings.filterwarnings('ignore')\n",
    "\n",
    "%pylab inline"
   ]
  },
  {
   "cell_type": "code",
   "execution_count": 623,
   "metadata": {},
   "outputs": [],
   "source": [
    "data = pd.read_csv('telecom_churn.csv')"
   ]
  },
  {
   "cell_type": "code",
   "execution_count": 624,
   "metadata": {},
   "outputs": [
    {
     "data": {
      "text/html": [
       "<div>\n",
       "<style scoped>\n",
       "    .dataframe tbody tr th:only-of-type {\n",
       "        vertical-align: middle;\n",
       "    }\n",
       "\n",
       "    .dataframe tbody tr th {\n",
       "        vertical-align: top;\n",
       "    }\n",
       "\n",
       "    .dataframe thead th {\n",
       "        text-align: right;\n",
       "    }\n",
       "</style>\n",
       "<table border=\"1\" class=\"dataframe\">\n",
       "  <thead>\n",
       "    <tr style=\"text-align: right;\">\n",
       "      <th></th>\n",
       "      <th>State</th>\n",
       "      <th>Account length</th>\n",
       "      <th>Area code</th>\n",
       "      <th>International plan</th>\n",
       "      <th>Voice mail plan</th>\n",
       "      <th>Number vmail messages</th>\n",
       "      <th>Total day minutes</th>\n",
       "      <th>Total day calls</th>\n",
       "      <th>Total day charge</th>\n",
       "      <th>Total eve minutes</th>\n",
       "      <th>Total eve calls</th>\n",
       "      <th>Total eve charge</th>\n",
       "      <th>Total night minutes</th>\n",
       "      <th>Total night calls</th>\n",
       "      <th>Total night charge</th>\n",
       "      <th>Total intl minutes</th>\n",
       "      <th>Total intl calls</th>\n",
       "      <th>Total intl charge</th>\n",
       "      <th>Customer service calls</th>\n",
       "      <th>Churn</th>\n",
       "    </tr>\n",
       "  </thead>\n",
       "  <tbody>\n",
       "    <tr>\n",
       "      <th>0</th>\n",
       "      <td>KS</td>\n",
       "      <td>128</td>\n",
       "      <td>415</td>\n",
       "      <td>No</td>\n",
       "      <td>Yes</td>\n",
       "      <td>25</td>\n",
       "      <td>265.1</td>\n",
       "      <td>110</td>\n",
       "      <td>45.07</td>\n",
       "      <td>197.4</td>\n",
       "      <td>99</td>\n",
       "      <td>16.78</td>\n",
       "      <td>244.7</td>\n",
       "      <td>91</td>\n",
       "      <td>11.01</td>\n",
       "      <td>10.0</td>\n",
       "      <td>3</td>\n",
       "      <td>2.70</td>\n",
       "      <td>1</td>\n",
       "      <td>False</td>\n",
       "    </tr>\n",
       "    <tr>\n",
       "      <th>1</th>\n",
       "      <td>OH</td>\n",
       "      <td>107</td>\n",
       "      <td>415</td>\n",
       "      <td>No</td>\n",
       "      <td>Yes</td>\n",
       "      <td>26</td>\n",
       "      <td>161.6</td>\n",
       "      <td>123</td>\n",
       "      <td>27.47</td>\n",
       "      <td>195.5</td>\n",
       "      <td>103</td>\n",
       "      <td>16.62</td>\n",
       "      <td>254.4</td>\n",
       "      <td>103</td>\n",
       "      <td>11.45</td>\n",
       "      <td>13.7</td>\n",
       "      <td>3</td>\n",
       "      <td>3.70</td>\n",
       "      <td>1</td>\n",
       "      <td>False</td>\n",
       "    </tr>\n",
       "    <tr>\n",
       "      <th>2</th>\n",
       "      <td>NJ</td>\n",
       "      <td>137</td>\n",
       "      <td>415</td>\n",
       "      <td>No</td>\n",
       "      <td>No</td>\n",
       "      <td>0</td>\n",
       "      <td>243.4</td>\n",
       "      <td>114</td>\n",
       "      <td>41.38</td>\n",
       "      <td>121.2</td>\n",
       "      <td>110</td>\n",
       "      <td>10.30</td>\n",
       "      <td>162.6</td>\n",
       "      <td>104</td>\n",
       "      <td>7.32</td>\n",
       "      <td>12.2</td>\n",
       "      <td>5</td>\n",
       "      <td>3.29</td>\n",
       "      <td>0</td>\n",
       "      <td>False</td>\n",
       "    </tr>\n",
       "    <tr>\n",
       "      <th>3</th>\n",
       "      <td>OH</td>\n",
       "      <td>84</td>\n",
       "      <td>408</td>\n",
       "      <td>Yes</td>\n",
       "      <td>No</td>\n",
       "      <td>0</td>\n",
       "      <td>299.4</td>\n",
       "      <td>71</td>\n",
       "      <td>50.90</td>\n",
       "      <td>61.9</td>\n",
       "      <td>88</td>\n",
       "      <td>5.26</td>\n",
       "      <td>196.9</td>\n",
       "      <td>89</td>\n",
       "      <td>8.86</td>\n",
       "      <td>6.6</td>\n",
       "      <td>7</td>\n",
       "      <td>1.78</td>\n",
       "      <td>2</td>\n",
       "      <td>False</td>\n",
       "    </tr>\n",
       "    <tr>\n",
       "      <th>4</th>\n",
       "      <td>OK</td>\n",
       "      <td>75</td>\n",
       "      <td>415</td>\n",
       "      <td>Yes</td>\n",
       "      <td>No</td>\n",
       "      <td>0</td>\n",
       "      <td>166.7</td>\n",
       "      <td>113</td>\n",
       "      <td>28.34</td>\n",
       "      <td>148.3</td>\n",
       "      <td>122</td>\n",
       "      <td>12.61</td>\n",
       "      <td>186.9</td>\n",
       "      <td>121</td>\n",
       "      <td>8.41</td>\n",
       "      <td>10.1</td>\n",
       "      <td>3</td>\n",
       "      <td>2.73</td>\n",
       "      <td>3</td>\n",
       "      <td>False</td>\n",
       "    </tr>\n",
       "    <tr>\n",
       "      <th>...</th>\n",
       "      <td>...</td>\n",
       "      <td>...</td>\n",
       "      <td>...</td>\n",
       "      <td>...</td>\n",
       "      <td>...</td>\n",
       "      <td>...</td>\n",
       "      <td>...</td>\n",
       "      <td>...</td>\n",
       "      <td>...</td>\n",
       "      <td>...</td>\n",
       "      <td>...</td>\n",
       "      <td>...</td>\n",
       "      <td>...</td>\n",
       "      <td>...</td>\n",
       "      <td>...</td>\n",
       "      <td>...</td>\n",
       "      <td>...</td>\n",
       "      <td>...</td>\n",
       "      <td>...</td>\n",
       "      <td>...</td>\n",
       "    </tr>\n",
       "    <tr>\n",
       "      <th>3328</th>\n",
       "      <td>AZ</td>\n",
       "      <td>192</td>\n",
       "      <td>415</td>\n",
       "      <td>No</td>\n",
       "      <td>Yes</td>\n",
       "      <td>36</td>\n",
       "      <td>156.2</td>\n",
       "      <td>77</td>\n",
       "      <td>26.55</td>\n",
       "      <td>215.5</td>\n",
       "      <td>126</td>\n",
       "      <td>18.32</td>\n",
       "      <td>279.1</td>\n",
       "      <td>83</td>\n",
       "      <td>12.56</td>\n",
       "      <td>9.9</td>\n",
       "      <td>6</td>\n",
       "      <td>2.67</td>\n",
       "      <td>2</td>\n",
       "      <td>False</td>\n",
       "    </tr>\n",
       "    <tr>\n",
       "      <th>3329</th>\n",
       "      <td>WV</td>\n",
       "      <td>68</td>\n",
       "      <td>415</td>\n",
       "      <td>No</td>\n",
       "      <td>No</td>\n",
       "      <td>0</td>\n",
       "      <td>231.1</td>\n",
       "      <td>57</td>\n",
       "      <td>39.29</td>\n",
       "      <td>153.4</td>\n",
       "      <td>55</td>\n",
       "      <td>13.04</td>\n",
       "      <td>191.3</td>\n",
       "      <td>123</td>\n",
       "      <td>8.61</td>\n",
       "      <td>9.6</td>\n",
       "      <td>4</td>\n",
       "      <td>2.59</td>\n",
       "      <td>3</td>\n",
       "      <td>False</td>\n",
       "    </tr>\n",
       "    <tr>\n",
       "      <th>3330</th>\n",
       "      <td>RI</td>\n",
       "      <td>28</td>\n",
       "      <td>510</td>\n",
       "      <td>No</td>\n",
       "      <td>No</td>\n",
       "      <td>0</td>\n",
       "      <td>180.8</td>\n",
       "      <td>109</td>\n",
       "      <td>30.74</td>\n",
       "      <td>288.8</td>\n",
       "      <td>58</td>\n",
       "      <td>24.55</td>\n",
       "      <td>191.9</td>\n",
       "      <td>91</td>\n",
       "      <td>8.64</td>\n",
       "      <td>14.1</td>\n",
       "      <td>6</td>\n",
       "      <td>3.81</td>\n",
       "      <td>2</td>\n",
       "      <td>False</td>\n",
       "    </tr>\n",
       "    <tr>\n",
       "      <th>3331</th>\n",
       "      <td>CT</td>\n",
       "      <td>184</td>\n",
       "      <td>510</td>\n",
       "      <td>Yes</td>\n",
       "      <td>No</td>\n",
       "      <td>0</td>\n",
       "      <td>213.8</td>\n",
       "      <td>105</td>\n",
       "      <td>36.35</td>\n",
       "      <td>159.6</td>\n",
       "      <td>84</td>\n",
       "      <td>13.57</td>\n",
       "      <td>139.2</td>\n",
       "      <td>137</td>\n",
       "      <td>6.26</td>\n",
       "      <td>5.0</td>\n",
       "      <td>10</td>\n",
       "      <td>1.35</td>\n",
       "      <td>2</td>\n",
       "      <td>False</td>\n",
       "    </tr>\n",
       "    <tr>\n",
       "      <th>3332</th>\n",
       "      <td>TN</td>\n",
       "      <td>74</td>\n",
       "      <td>415</td>\n",
       "      <td>No</td>\n",
       "      <td>Yes</td>\n",
       "      <td>25</td>\n",
       "      <td>234.4</td>\n",
       "      <td>113</td>\n",
       "      <td>39.85</td>\n",
       "      <td>265.9</td>\n",
       "      <td>82</td>\n",
       "      <td>22.60</td>\n",
       "      <td>241.4</td>\n",
       "      <td>77</td>\n",
       "      <td>10.86</td>\n",
       "      <td>13.7</td>\n",
       "      <td>4</td>\n",
       "      <td>3.70</td>\n",
       "      <td>0</td>\n",
       "      <td>False</td>\n",
       "    </tr>\n",
       "  </tbody>\n",
       "</table>\n",
       "<p>3333 rows × 20 columns</p>\n",
       "</div>"
      ],
      "text/plain": [
       "     State  Account length  Area code International plan Voice mail plan  \\\n",
       "0       KS             128        415                 No             Yes   \n",
       "1       OH             107        415                 No             Yes   \n",
       "2       NJ             137        415                 No              No   \n",
       "3       OH              84        408                Yes              No   \n",
       "4       OK              75        415                Yes              No   \n",
       "...    ...             ...        ...                ...             ...   \n",
       "3328    AZ             192        415                 No             Yes   \n",
       "3329    WV              68        415                 No              No   \n",
       "3330    RI              28        510                 No              No   \n",
       "3331    CT             184        510                Yes              No   \n",
       "3332    TN              74        415                 No             Yes   \n",
       "\n",
       "      Number vmail messages  Total day minutes  Total day calls  \\\n",
       "0                        25              265.1              110   \n",
       "1                        26              161.6              123   \n",
       "2                         0              243.4              114   \n",
       "3                         0              299.4               71   \n",
       "4                         0              166.7              113   \n",
       "...                     ...                ...              ...   \n",
       "3328                     36              156.2               77   \n",
       "3329                      0              231.1               57   \n",
       "3330                      0              180.8              109   \n",
       "3331                      0              213.8              105   \n",
       "3332                     25              234.4              113   \n",
       "\n",
       "      Total day charge  Total eve minutes  Total eve calls  Total eve charge  \\\n",
       "0                45.07              197.4               99             16.78   \n",
       "1                27.47              195.5              103             16.62   \n",
       "2                41.38              121.2              110             10.30   \n",
       "3                50.90               61.9               88              5.26   \n",
       "4                28.34              148.3              122             12.61   \n",
       "...                ...                ...              ...               ...   \n",
       "3328             26.55              215.5              126             18.32   \n",
       "3329             39.29              153.4               55             13.04   \n",
       "3330             30.74              288.8               58             24.55   \n",
       "3331             36.35              159.6               84             13.57   \n",
       "3332             39.85              265.9               82             22.60   \n",
       "\n",
       "      Total night minutes  Total night calls  Total night charge  \\\n",
       "0                   244.7                 91               11.01   \n",
       "1                   254.4                103               11.45   \n",
       "2                   162.6                104                7.32   \n",
       "3                   196.9                 89                8.86   \n",
       "4                   186.9                121                8.41   \n",
       "...                   ...                ...                 ...   \n",
       "3328                279.1                 83               12.56   \n",
       "3329                191.3                123                8.61   \n",
       "3330                191.9                 91                8.64   \n",
       "3331                139.2                137                6.26   \n",
       "3332                241.4                 77               10.86   \n",
       "\n",
       "      Total intl minutes  Total intl calls  Total intl charge  \\\n",
       "0                   10.0                 3               2.70   \n",
       "1                   13.7                 3               3.70   \n",
       "2                   12.2                 5               3.29   \n",
       "3                    6.6                 7               1.78   \n",
       "4                   10.1                 3               2.73   \n",
       "...                  ...               ...                ...   \n",
       "3328                 9.9                 6               2.67   \n",
       "3329                 9.6                 4               2.59   \n",
       "3330                14.1                 6               3.81   \n",
       "3331                 5.0                10               1.35   \n",
       "3332                13.7                 4               3.70   \n",
       "\n",
       "      Customer service calls  Churn  \n",
       "0                          1  False  \n",
       "1                          1  False  \n",
       "2                          0  False  \n",
       "3                          2  False  \n",
       "4                          3  False  \n",
       "...                      ...    ...  \n",
       "3328                       2  False  \n",
       "3329                       3  False  \n",
       "3330                       2  False  \n",
       "3331                       2  False  \n",
       "3332                       0  False  \n",
       "\n",
       "[3333 rows x 20 columns]"
      ]
     },
     "execution_count": 624,
     "metadata": {},
     "output_type": "execute_result"
    }
   ],
   "source": [
    "data"
   ]
  },
  {
   "cell_type": "code",
   "execution_count": 625,
   "metadata": {},
   "outputs": [],
   "source": [
    "X = data.iloc[:,:-1]\n",
    "\n",
    "y = data['Churn']"
   ]
  },
  {
   "cell_type": "code",
   "execution_count": 626,
   "metadata": {},
   "outputs": [
    {
     "name": "stdout",
     "output_type": "stream",
     "text": [
      "We have 15 numeric columns: Account length, Number vmail messages, Total day calls, Total eve calls, Total night calls, Total intl calls, Customer service calls, Total day minutes, Total day charge, Total eve minutes, Total eve charge, Total night minutes, Total night charge, Total intl minutes, Total intl charge\n",
      "And 3 categorical columns: State, International plan, Voice mail plan\n"
     ]
    }
   ],
   "source": [
    "p1_num_cols = X.columns[X.dtypes == 'int64'].tolist()\n",
    "p2_num_cols = X.columns[X.dtypes == 'float64'].tolist()\n",
    "num_cols = p1_num_cols + p2_num_cols\n",
    "num_cols.remove('Area code')\n",
    "\n",
    "cat_cols = X.columns[X.dtypes == 'object']\n",
    "\n",
    "print(f\"We have {len(num_cols)} numeric columns: {', '.join(num_cols)}\")\n",
    "print(f\"And {len(cat_cols)} categorical columns: {', '.join(cat_cols)}\")"
   ]
  },
  {
   "cell_type": "markdown",
   "metadata": {},
   "source": [
    "Area code тоже категориальный признак. "
   ]
  },
  {
   "cell_type": "code",
   "execution_count": 627,
   "metadata": {},
   "outputs": [],
   "source": [
    "binary_cols = cat_cols[X[cat_cols].nunique() == 2].tolist()\n",
    "ordinal_cols = ['State', 'Area code']\n",
    "cat_cols = cat_cols.difference(binary_cols + ordinal_cols).tolist()"
   ]
  },
  {
   "cell_type": "code",
   "execution_count": 628,
   "metadata": {},
   "outputs": [
    {
     "name": "stdout",
     "output_type": "stream",
     "text": [
      "Num_cols: ['Account length', 'Number vmail messages', 'Total day calls', 'Total eve calls', 'Total night calls', 'Total intl calls', 'Customer service calls', 'Total day minutes', 'Total day charge', 'Total eve minutes', 'Total eve charge', 'Total night minutes', 'Total night charge', 'Total intl minutes', 'Total intl charge']\n",
      "Binary_cols: ['International plan', 'Voice mail plan']\n",
      "Ordinal_cols: ['State', 'Area code']\n"
     ]
    }
   ],
   "source": [
    "print('Num_cols:', num_cols)\n",
    "print('Binary_cols:', binary_cols)\n",
    "print('Ordinal_cols:', ordinal_cols)"
   ]
  },
  {
   "cell_type": "code",
   "execution_count": 631,
   "metadata": {},
   "outputs": [
    {
     "data": {
      "text/plain": [
       "0       0\n",
       "1       0\n",
       "2       0\n",
       "3       0\n",
       "4       0\n",
       "       ..\n",
       "3328    0\n",
       "3329    0\n",
       "3330    0\n",
       "3331    0\n",
       "3332    0\n",
       "Name: Churn, Length: 3333, dtype: int64"
      ]
     },
     "execution_count": 631,
     "metadata": {},
     "output_type": "execute_result"
    }
   ],
   "source": [
    "y = (y == True).astype(int)\n",
    "y"
   ]
  },
  {
   "cell_type": "code",
   "execution_count": 633,
   "metadata": {},
   "outputs": [
    {
     "data": {
      "text/plain": [
       "0    0.855086\n",
       "1    0.144914\n",
       "Name: Churn, dtype: float64"
      ]
     },
     "execution_count": 633,
     "metadata": {},
     "output_type": "execute_result"
    }
   ],
   "source": [
    "y.value_counts(normalize=True)"
   ]
  },
  {
   "cell_type": "code",
   "execution_count": 634,
   "metadata": {},
   "outputs": [],
   "source": [
    "ord_enc = OrdinalEncoder(cols=ordinal_cols)\n",
    "X = ord_enc.fit_transform(X)"
   ]
  },
  {
   "cell_type": "code",
   "execution_count": 635,
   "metadata": {},
   "outputs": [],
   "source": [
    "class CustomScaler(TransformerMixin):\n",
    "    def __init__(self, cols, scaler=None):\n",
    "        self.cols = cols\n",
    "        self.scaler = scaler or StandardScaler()\n",
    "        \n",
    "    def fit(self, X, y=None):\n",
    "        num_cols = X.copy()[self.cols]\n",
    "        self.scaler.fit(num_cols)\n",
    "        return self\n",
    "    def transform(self, X, y=None):\n",
    "        X_res = X.copy()\n",
    "        num_cols_tr = self.scaler.transform(X_res[self.cols])\n",
    "        for i, col in enumerate(self.cols):\n",
    "            X_res[col] = num_cols_tr[:,i]\n",
    "        return X_res"
   ]
  },
  {
   "cell_type": "code",
   "execution_count": 636,
   "metadata": {},
   "outputs": [],
   "source": [
    "cs = CustomScaler(num_cols)\n",
    "X = cs.fit_transform(X)"
   ]
  },
  {
   "cell_type": "code",
   "execution_count": 637,
   "metadata": {},
   "outputs": [],
   "source": [
    "X['International plan'].replace({\"Yes\": 1, \"No\": 0}, inplace=True)\n",
    "X['Voice mail plan'].replace({\"Yes\": 1, \"No\": 0}, inplace=True)"
   ]
  },
  {
   "cell_type": "code",
   "execution_count": 638,
   "metadata": {},
   "outputs": [
    {
     "data": {
      "text/html": [
       "<div>\n",
       "<style scoped>\n",
       "    .dataframe tbody tr th:only-of-type {\n",
       "        vertical-align: middle;\n",
       "    }\n",
       "\n",
       "    .dataframe tbody tr th {\n",
       "        vertical-align: top;\n",
       "    }\n",
       "\n",
       "    .dataframe thead th {\n",
       "        text-align: right;\n",
       "    }\n",
       "</style>\n",
       "<table border=\"1\" class=\"dataframe\">\n",
       "  <thead>\n",
       "    <tr style=\"text-align: right;\">\n",
       "      <th></th>\n",
       "      <th>State</th>\n",
       "      <th>Account length</th>\n",
       "      <th>Area code</th>\n",
       "      <th>International plan</th>\n",
       "      <th>Voice mail plan</th>\n",
       "      <th>Number vmail messages</th>\n",
       "      <th>Total day minutes</th>\n",
       "      <th>Total day calls</th>\n",
       "      <th>Total day charge</th>\n",
       "      <th>Total eve minutes</th>\n",
       "      <th>Total eve calls</th>\n",
       "      <th>Total eve charge</th>\n",
       "      <th>Total night minutes</th>\n",
       "      <th>Total night calls</th>\n",
       "      <th>Total night charge</th>\n",
       "      <th>Total intl minutes</th>\n",
       "      <th>Total intl calls</th>\n",
       "      <th>Total intl charge</th>\n",
       "      <th>Customer service calls</th>\n",
       "    </tr>\n",
       "  </thead>\n",
       "  <tbody>\n",
       "    <tr>\n",
       "      <th>0</th>\n",
       "      <td>1</td>\n",
       "      <td>0.676489</td>\n",
       "      <td>1</td>\n",
       "      <td>0</td>\n",
       "      <td>1</td>\n",
       "      <td>1.234883</td>\n",
       "      <td>1.566767</td>\n",
       "      <td>0.476643</td>\n",
       "      <td>1.567036</td>\n",
       "      <td>-0.070610</td>\n",
       "      <td>-0.055940</td>\n",
       "      <td>-0.070427</td>\n",
       "      <td>0.866743</td>\n",
       "      <td>-0.465494</td>\n",
       "      <td>0.866029</td>\n",
       "      <td>-0.085008</td>\n",
       "      <td>-0.601195</td>\n",
       "      <td>-0.085690</td>\n",
       "      <td>-0.427932</td>\n",
       "    </tr>\n",
       "    <tr>\n",
       "      <th>1</th>\n",
       "      <td>2</td>\n",
       "      <td>0.149065</td>\n",
       "      <td>1</td>\n",
       "      <td>0</td>\n",
       "      <td>1</td>\n",
       "      <td>1.307948</td>\n",
       "      <td>-0.333738</td>\n",
       "      <td>1.124503</td>\n",
       "      <td>-0.334013</td>\n",
       "      <td>-0.108080</td>\n",
       "      <td>0.144867</td>\n",
       "      <td>-0.107549</td>\n",
       "      <td>1.058571</td>\n",
       "      <td>0.147825</td>\n",
       "      <td>1.059390</td>\n",
       "      <td>1.240482</td>\n",
       "      <td>-0.601195</td>\n",
       "      <td>1.241169</td>\n",
       "      <td>-0.427932</td>\n",
       "    </tr>\n",
       "    <tr>\n",
       "      <th>2</th>\n",
       "      <td>3</td>\n",
       "      <td>0.902529</td>\n",
       "      <td>1</td>\n",
       "      <td>0</td>\n",
       "      <td>0</td>\n",
       "      <td>-0.591760</td>\n",
       "      <td>1.168304</td>\n",
       "      <td>0.675985</td>\n",
       "      <td>1.168464</td>\n",
       "      <td>-1.573383</td>\n",
       "      <td>0.496279</td>\n",
       "      <td>-1.573900</td>\n",
       "      <td>-0.756869</td>\n",
       "      <td>0.198935</td>\n",
       "      <td>-0.755571</td>\n",
       "      <td>0.703121</td>\n",
       "      <td>0.211534</td>\n",
       "      <td>0.697156</td>\n",
       "      <td>-1.188218</td>\n",
       "    </tr>\n",
       "    <tr>\n",
       "      <th>3</th>\n",
       "      <td>2</td>\n",
       "      <td>-0.428590</td>\n",
       "      <td>2</td>\n",
       "      <td>1</td>\n",
       "      <td>0</td>\n",
       "      <td>-0.591760</td>\n",
       "      <td>2.196596</td>\n",
       "      <td>-1.466936</td>\n",
       "      <td>2.196759</td>\n",
       "      <td>-2.742865</td>\n",
       "      <td>-0.608159</td>\n",
       "      <td>-2.743268</td>\n",
       "      <td>-0.078551</td>\n",
       "      <td>-0.567714</td>\n",
       "      <td>-0.078806</td>\n",
       "      <td>-1.303026</td>\n",
       "      <td>1.024263</td>\n",
       "      <td>-1.306401</td>\n",
       "      <td>0.332354</td>\n",
       "    </tr>\n",
       "    <tr>\n",
       "      <th>4</th>\n",
       "      <td>4</td>\n",
       "      <td>-0.654629</td>\n",
       "      <td>1</td>\n",
       "      <td>1</td>\n",
       "      <td>0</td>\n",
       "      <td>-0.591760</td>\n",
       "      <td>-0.240090</td>\n",
       "      <td>0.626149</td>\n",
       "      <td>-0.240041</td>\n",
       "      <td>-1.038932</td>\n",
       "      <td>1.098699</td>\n",
       "      <td>-1.037939</td>\n",
       "      <td>-0.276311</td>\n",
       "      <td>1.067803</td>\n",
       "      <td>-0.276562</td>\n",
       "      <td>-0.049184</td>\n",
       "      <td>-0.601195</td>\n",
       "      <td>-0.045885</td>\n",
       "      <td>1.092641</td>\n",
       "    </tr>\n",
       "    <tr>\n",
       "      <th>...</th>\n",
       "      <td>...</td>\n",
       "      <td>...</td>\n",
       "      <td>...</td>\n",
       "      <td>...</td>\n",
       "      <td>...</td>\n",
       "      <td>...</td>\n",
       "      <td>...</td>\n",
       "      <td>...</td>\n",
       "      <td>...</td>\n",
       "      <td>...</td>\n",
       "      <td>...</td>\n",
       "      <td>...</td>\n",
       "      <td>...</td>\n",
       "      <td>...</td>\n",
       "      <td>...</td>\n",
       "      <td>...</td>\n",
       "      <td>...</td>\n",
       "      <td>...</td>\n",
       "      <td>...</td>\n",
       "    </tr>\n",
       "    <tr>\n",
       "      <th>3328</th>\n",
       "      <td>21</td>\n",
       "      <td>2.283878</td>\n",
       "      <td>1</td>\n",
       "      <td>0</td>\n",
       "      <td>1</td>\n",
       "      <td>2.038605</td>\n",
       "      <td>-0.432895</td>\n",
       "      <td>-1.167924</td>\n",
       "      <td>-0.433386</td>\n",
       "      <td>0.286348</td>\n",
       "      <td>1.299506</td>\n",
       "      <td>0.286880</td>\n",
       "      <td>1.547039</td>\n",
       "      <td>-0.874374</td>\n",
       "      <td>1.547188</td>\n",
       "      <td>-0.120832</td>\n",
       "      <td>0.617898</td>\n",
       "      <td>-0.125496</td>\n",
       "      <td>0.332354</td>\n",
       "    </tr>\n",
       "    <tr>\n",
       "      <th>3329</th>\n",
       "      <td>9</td>\n",
       "      <td>-0.830437</td>\n",
       "      <td>1</td>\n",
       "      <td>0</td>\n",
       "      <td>0</td>\n",
       "      <td>-0.591760</td>\n",
       "      <td>0.942447</td>\n",
       "      <td>-2.164631</td>\n",
       "      <td>0.942714</td>\n",
       "      <td>-0.938353</td>\n",
       "      <td>-2.264816</td>\n",
       "      <td>-0.938172</td>\n",
       "      <td>-0.189297</td>\n",
       "      <td>1.170023</td>\n",
       "      <td>-0.188670</td>\n",
       "      <td>-0.228304</td>\n",
       "      <td>-0.194831</td>\n",
       "      <td>-0.231645</td>\n",
       "      <td>1.092641</td>\n",
       "    </tr>\n",
       "    <tr>\n",
       "      <th>3330</th>\n",
       "      <td>11</td>\n",
       "      <td>-1.835055</td>\n",
       "      <td>3</td>\n",
       "      <td>0</td>\n",
       "      <td>0</td>\n",
       "      <td>-0.591760</td>\n",
       "      <td>0.018820</td>\n",
       "      <td>0.426808</td>\n",
       "      <td>0.019193</td>\n",
       "      <td>1.731930</td>\n",
       "      <td>-2.114211</td>\n",
       "      <td>1.732349</td>\n",
       "      <td>-0.177431</td>\n",
       "      <td>-0.465494</td>\n",
       "      <td>-0.175486</td>\n",
       "      <td>1.383778</td>\n",
       "      <td>0.617898</td>\n",
       "      <td>1.387123</td>\n",
       "      <td>0.332354</td>\n",
       "    </tr>\n",
       "    <tr>\n",
       "      <th>3331</th>\n",
       "      <td>50</td>\n",
       "      <td>2.082955</td>\n",
       "      <td>3</td>\n",
       "      <td>1</td>\n",
       "      <td>0</td>\n",
       "      <td>-0.591760</td>\n",
       "      <td>0.624778</td>\n",
       "      <td>0.227466</td>\n",
       "      <td>0.625153</td>\n",
       "      <td>-0.816080</td>\n",
       "      <td>-0.808966</td>\n",
       "      <td>-0.815203</td>\n",
       "      <td>-1.219628</td>\n",
       "      <td>1.885562</td>\n",
       "      <td>-1.221396</td>\n",
       "      <td>-1.876211</td>\n",
       "      <td>2.243356</td>\n",
       "      <td>-1.876950</td>\n",
       "      <td>0.332354</td>\n",
       "    </tr>\n",
       "    <tr>\n",
       "      <th>3332</th>\n",
       "      <td>48</td>\n",
       "      <td>-0.679745</td>\n",
       "      <td>1</td>\n",
       "      <td>0</td>\n",
       "      <td>1</td>\n",
       "      <td>1.234883</td>\n",
       "      <td>1.003042</td>\n",
       "      <td>0.626149</td>\n",
       "      <td>1.003202</td>\n",
       "      <td>1.280309</td>\n",
       "      <td>-0.909370</td>\n",
       "      <td>1.279915</td>\n",
       "      <td>0.801482</td>\n",
       "      <td>-1.181033</td>\n",
       "      <td>0.800110</td>\n",
       "      <td>1.240482</td>\n",
       "      <td>-0.194831</td>\n",
       "      <td>1.241169</td>\n",
       "      <td>-1.188218</td>\n",
       "    </tr>\n",
       "  </tbody>\n",
       "</table>\n",
       "<p>3333 rows × 19 columns</p>\n",
       "</div>"
      ],
      "text/plain": [
       "      State  Account length  Area code  International plan  Voice mail plan  \\\n",
       "0         1        0.676489          1                   0                1   \n",
       "1         2        0.149065          1                   0                1   \n",
       "2         3        0.902529          1                   0                0   \n",
       "3         2       -0.428590          2                   1                0   \n",
       "4         4       -0.654629          1                   1                0   \n",
       "...     ...             ...        ...                 ...              ...   \n",
       "3328     21        2.283878          1                   0                1   \n",
       "3329      9       -0.830437          1                   0                0   \n",
       "3330     11       -1.835055          3                   0                0   \n",
       "3331     50        2.082955          3                   1                0   \n",
       "3332     48       -0.679745          1                   0                1   \n",
       "\n",
       "      Number vmail messages  Total day minutes  Total day calls  \\\n",
       "0                  1.234883           1.566767         0.476643   \n",
       "1                  1.307948          -0.333738         1.124503   \n",
       "2                 -0.591760           1.168304         0.675985   \n",
       "3                 -0.591760           2.196596        -1.466936   \n",
       "4                 -0.591760          -0.240090         0.626149   \n",
       "...                     ...                ...              ...   \n",
       "3328               2.038605          -0.432895        -1.167924   \n",
       "3329              -0.591760           0.942447        -2.164631   \n",
       "3330              -0.591760           0.018820         0.426808   \n",
       "3331              -0.591760           0.624778         0.227466   \n",
       "3332               1.234883           1.003042         0.626149   \n",
       "\n",
       "      Total day charge  Total eve minutes  Total eve calls  Total eve charge  \\\n",
       "0             1.567036          -0.070610        -0.055940         -0.070427   \n",
       "1            -0.334013          -0.108080         0.144867         -0.107549   \n",
       "2             1.168464          -1.573383         0.496279         -1.573900   \n",
       "3             2.196759          -2.742865        -0.608159         -2.743268   \n",
       "4            -0.240041          -1.038932         1.098699         -1.037939   \n",
       "...                ...                ...              ...               ...   \n",
       "3328         -0.433386           0.286348         1.299506          0.286880   \n",
       "3329          0.942714          -0.938353        -2.264816         -0.938172   \n",
       "3330          0.019193           1.731930        -2.114211          1.732349   \n",
       "3331          0.625153          -0.816080        -0.808966         -0.815203   \n",
       "3332          1.003202           1.280309        -0.909370          1.279915   \n",
       "\n",
       "      Total night minutes  Total night calls  Total night charge  \\\n",
       "0                0.866743          -0.465494            0.866029   \n",
       "1                1.058571           0.147825            1.059390   \n",
       "2               -0.756869           0.198935           -0.755571   \n",
       "3               -0.078551          -0.567714           -0.078806   \n",
       "4               -0.276311           1.067803           -0.276562   \n",
       "...                   ...                ...                 ...   \n",
       "3328             1.547039          -0.874374            1.547188   \n",
       "3329            -0.189297           1.170023           -0.188670   \n",
       "3330            -0.177431          -0.465494           -0.175486   \n",
       "3331            -1.219628           1.885562           -1.221396   \n",
       "3332             0.801482          -1.181033            0.800110   \n",
       "\n",
       "      Total intl minutes  Total intl calls  Total intl charge  \\\n",
       "0              -0.085008         -0.601195          -0.085690   \n",
       "1               1.240482         -0.601195           1.241169   \n",
       "2               0.703121          0.211534           0.697156   \n",
       "3              -1.303026          1.024263          -1.306401   \n",
       "4              -0.049184         -0.601195          -0.045885   \n",
       "...                  ...               ...                ...   \n",
       "3328           -0.120832          0.617898          -0.125496   \n",
       "3329           -0.228304         -0.194831          -0.231645   \n",
       "3330            1.383778          0.617898           1.387123   \n",
       "3331           -1.876211          2.243356          -1.876950   \n",
       "3332            1.240482         -0.194831           1.241169   \n",
       "\n",
       "      Customer service calls  \n",
       "0                  -0.427932  \n",
       "1                  -0.427932  \n",
       "2                  -1.188218  \n",
       "3                   0.332354  \n",
       "4                   1.092641  \n",
       "...                      ...  \n",
       "3328                0.332354  \n",
       "3329                1.092641  \n",
       "3330                0.332354  \n",
       "3331                0.332354  \n",
       "3332               -1.188218  \n",
       "\n",
       "[3333 rows x 19 columns]"
      ]
     },
     "execution_count": 638,
     "metadata": {},
     "output_type": "execute_result"
    }
   ],
   "source": [
    "X"
   ]
  },
  {
   "cell_type": "markdown",
   "metadata": {},
   "source": [
    "## A"
   ]
  },
  {
   "cell_type": "code",
   "execution_count": 639,
   "metadata": {},
   "outputs": [
    {
     "name": "stdout",
     "output_type": "stream",
     "text": [
      "best score: 0.8637883760822291\n",
      "best params: {'C': 0.30000000000000004}\n"
     ]
    }
   ],
   "source": [
    "model = LogisticRegression(solver='lbfgs', multi_class='auto')\n",
    "params = {'C': np.arange(0.1,1.1,0.1)}\n",
    "grid = GridSearchCV(model, params)\n",
    "\n",
    "grid.fit(X, y)\n",
    "\n",
    "print('best score:', grid.best_score_)\n",
    "print('best params:', grid.best_params_)"
   ]
  },
  {
   "cell_type": "code",
   "execution_count": 640,
   "metadata": {},
   "outputs": [],
   "source": [
    "Xtrain, Xtest, ytrain, ytest = train_test_split(X, y, test_size=0.3)"
   ]
  },
  {
   "cell_type": "markdown",
   "metadata": {},
   "source": [
    "### accuracy"
   ]
  },
  {
   "cell_type": "code",
   "execution_count": 641,
   "metadata": {},
   "outputs": [
    {
     "data": {
      "text/plain": [
       "(0.8705529361337334, 0.849)"
      ]
     },
     "execution_count": 641,
     "metadata": {},
     "output_type": "execute_result"
    }
   ],
   "source": [
    "model = LogisticRegression(solver='lbfgs', multi_class='auto', C=0.30000000000000004)\n",
    "model.fit(Xtrain, ytrain)\n",
    "\n",
    "pred_train = model.predict(Xtrain)\n",
    "pred_test = model.predict(Xtest)\n",
    "\n",
    "accuracy_score(ytrain, pred_train), accuracy_score(ytest, pred_test)"
   ]
  },
  {
   "cell_type": "markdown",
   "metadata": {},
   "source": [
    "### f1"
   ]
  },
  {
   "cell_type": "code",
   "execution_count": 642,
   "metadata": {},
   "outputs": [
    {
     "data": {
      "text/plain": [
       "(0.33480176211453744, 0.24875621890547267)"
      ]
     },
     "execution_count": 642,
     "metadata": {},
     "output_type": "execute_result"
    }
   ],
   "source": [
    "f1_score(ytrain, pred_train), f1_score(ytest, pred_test)"
   ]
  },
  {
   "cell_type": "markdown",
   "metadata": {},
   "source": [
    "### ROC-AUC"
   ]
  },
  {
   "cell_type": "code",
   "execution_count": 643,
   "metadata": {},
   "outputs": [],
   "source": [
    "tpr, fpr, _ = roc_curve(ytrain, model.predict_proba(Xtrain)[:, 0])"
   ]
  },
  {
   "cell_type": "code",
   "execution_count": 644,
   "metadata": {},
   "outputs": [
    {
     "data": {
      "text/plain": [
       "[<matplotlib.lines.Line2D at 0x7f9f4ac8ad90>]"
      ]
     },
     "execution_count": 644,
     "metadata": {},
     "output_type": "execute_result"
    },
    {
     "data": {
      "image/png": "[encoded data removed]",
      "text/plain": [
       "<Figure size 432x288 with 1 Axes>"
      ]
     },
     "metadata": {
      "needs_background": "light"
     },
     "output_type": "display_data"
    }
   ],
   "source": [
    "plt.plot(fpr, tpr)"
   ]
  },
  {
   "cell_type": "code",
   "execution_count": 645,
   "metadata": {},
   "outputs": [
    {
     "data": {
      "text/plain": [
       "0.8248195179518674"
      ]
     },
     "execution_count": 645,
     "metadata": {},
     "output_type": "execute_result"
    }
   ],
   "source": [
    "auc(fpr, tpr)"
   ]
  },
  {
   "cell_type": "markdown",
   "metadata": {},
   "source": [
    "Переобучение есть, так как train > test, но разница мала. Качество неплохое, учитывая, что максимальные значения accuracy и AUC = 1. "
   ]
  },
  {
   "cell_type": "markdown",
   "metadata": {},
   "source": [
    "## B"
   ]
  },
  {
   "cell_type": "code",
   "execution_count": 688,
   "metadata": {},
   "outputs": [
    {
     "data": {
      "text/plain": [
       "GridSearchCV(estimator=SVC(kernel='linear'),\n",
       "             param_grid={'C': array([0.1, 0.2, 0.3, 0.4, 0.5, 0.6, 0.7, 0.8, 0.9, 1. ])})"
      ]
     },
     "execution_count": 688,
     "metadata": {},
     "output_type": "execute_result"
    }
   ],
   "source": [
    "grid = {\"C\": np.arange(0.1, 1.1, 0.1)}\n",
    "svm = SVC(kernel='linear') \n",
    "svm_cv = GridSearchCV(svm,\n",
    "                      grid)\n",
    "svm_cv.fit(X, y)"
   ]
  },
  {
   "cell_type": "code",
   "execution_count": 689,
   "metadata": {},
   "outputs": [
    {
     "name": "stdout",
     "output_type": "stream",
     "text": [
      "best score: 0.8550859705282494\n",
      "best params: {'C': 0.1}\n"
     ]
    }
   ],
   "source": [
    "print('best score:', svm_cv.best_score_)\n",
    "print('best params:', svm_cv.best_params_)"
   ]
  },
  {
   "cell_type": "markdown",
   "metadata": {},
   "source": [
    "### accuracy"
   ]
  },
  {
   "cell_type": "code",
   "execution_count": 647,
   "metadata": {},
   "outputs": [
    {
     "data": {
      "text/plain": [
       "(0.8576939562794685, 0.849)"
      ]
     },
     "execution_count": 647,
     "metadata": {},
     "output_type": "execute_result"
    }
   ],
   "source": [
    "svm = SVC(C = 0.1, kernel='linear', probability=True)\n",
    "svm.fit(Xtrain, ytrain)\n",
    "\n",
    "pred_train_svm = svm.predict(Xtrain)\n",
    "pred_test_svm = svm.predict(Xtest)\n",
    "\n",
    "accuracy_score(ytrain, pred_train_svm), accuracy_score(ytest, pred_test_svm)"
   ]
  },
  {
   "cell_type": "markdown",
   "metadata": {},
   "source": [
    "### f1"
   ]
  },
  {
   "cell_type": "code",
   "execution_count": 648,
   "metadata": {},
   "outputs": [
    {
     "data": {
      "text/plain": [
       "(0.0, 0.0)"
      ]
     },
     "execution_count": 648,
     "metadata": {},
     "output_type": "execute_result"
    }
   ],
   "source": [
    "f1_score(ytrain, pred_train_svm), f1_score(ytest, pred_test_svm)"
   ]
  },
  {
   "cell_type": "markdown",
   "metadata": {},
   "source": [
    "### ROC-AUC"
   ]
  },
  {
   "cell_type": "code",
   "execution_count": 649,
   "metadata": {},
   "outputs": [],
   "source": [
    "tpr, fpr, _ = roc_curve(ytrain, svm.predict_proba(Xtrain)[:, 0])"
   ]
  },
  {
   "cell_type": "code",
   "execution_count": 650,
   "metadata": {},
   "outputs": [
    {
     "data": {
      "text/plain": [
       "[<matplotlib.lines.Line2D at 0x7f9f4be8c280>]"
      ]
     },
     "execution_count": 650,
     "metadata": {},
     "output_type": "execute_result"
    },
    {
     "data": {
      "image/png": "[encoded data removed]",
      "text/plain": [
       "<Figure size 432x288 with 1 Axes>"
      ]
     },
     "metadata": {
      "needs_background": "light"
     },
     "output_type": "display_data"
    }
   ],
   "source": [
    "plt.plot(fpr, tpr)"
   ]
  },
  {
   "cell_type": "code",
   "execution_count": 651,
   "metadata": {},
   "outputs": [
    {
     "data": {
      "text/plain": [
       "0.8132786016630239"
      ]
     },
     "execution_count": 651,
     "metadata": {},
     "output_type": "execute_result"
    }
   ],
   "source": [
    "auc(fpr, tpr)"
   ]
  },
  {
   "cell_type": "markdown",
   "metadata": {},
   "source": [
    "Аналогично модели А. "
   ]
  },
  {
   "cell_type": "markdown",
   "metadata": {},
   "source": [
    "## C"
   ]
  },
  {
   "cell_type": "code",
   "execution_count": 652,
   "metadata": {},
   "outputs": [],
   "source": [
    "from sklearn.model_selection import GridSearchCV\n",
    "from sklearn.preprocessing import PolynomialFeatures\n",
    "from sklearn.pipeline import Pipeline\n",
    "\n",
    "logit_pipe = Pipeline([('poly', PolynomialFeatures(degree=2)),\n",
    "                       ('logit', LogisticRegression())])"
   ]
  },
  {
   "cell_type": "code",
   "execution_count": 653,
   "metadata": {},
   "outputs": [
    {
     "name": "stdout",
     "output_type": "stream",
     "text": [
      "best score: 0.8931893189318932\n",
      "best params: {'logit__C': 0.7000000000000001}\n"
     ]
    }
   ],
   "source": [
    "params = {'logit__C': np.arange(0.1, 1.1, 0.1)}\n",
    "grid = GridSearchCV(logit_pipe, params, cv=3)\n",
    "\n",
    "grid.fit(X, y)\n",
    "\n",
    "print('best score:', grid.best_score_)\n",
    "print('best params:', grid.best_params_)"
   ]
  },
  {
   "cell_type": "markdown",
   "metadata": {},
   "source": [
    "### accuracy"
   ]
  },
  {
   "cell_type": "code",
   "execution_count": 658,
   "metadata": {},
   "outputs": [
    {
     "data": {
      "text/plain": [
       "(0.9039862837548222, 0.882)"
      ]
     },
     "execution_count": 658,
     "metadata": {},
     "output_type": "execute_result"
    }
   ],
   "source": [
    "logit_pipe_fin = Pipeline([('poly', PolynomialFeatures(degree=2)),\n",
    "                       ('logit', LogisticRegression(C=0.7000000000000001))])\n",
    "\n",
    "logit_pipe_fin.fit(Xtrain, ytrain)\n",
    "\n",
    "pred_train_pipe = logit_pipe_fin.predict(Xtrain)\n",
    "pred_test_pipe = logit_pipe_fin.predict(Xtest)\n",
    "\n",
    "accuracy_score(ytrain, pred_train_pipe), accuracy_score(ytest, pred_test_pipe)"
   ]
  },
  {
   "cell_type": "markdown",
   "metadata": {},
   "source": [
    "### f1"
   ]
  },
  {
   "cell_type": "code",
   "execution_count": 659,
   "metadata": {},
   "outputs": [
    {
     "data": {
      "text/plain": [
       "(0.6097560975609756, 0.528)"
      ]
     },
     "execution_count": 659,
     "metadata": {},
     "output_type": "execute_result"
    }
   ],
   "source": [
    "f1_score(ytrain, pred_train_pipe), f1_score(ytest, pred_test_pipe)"
   ]
  },
  {
   "cell_type": "markdown",
   "metadata": {},
   "source": [
    "### ROC-AUC"
   ]
  },
  {
   "cell_type": "code",
   "execution_count": 660,
   "metadata": {},
   "outputs": [],
   "source": [
    "tpr, fpr, _ = roc_curve(ytrain, logit_pipe_fin.predict_proba(Xtrain)[:, 0])"
   ]
  },
  {
   "cell_type": "code",
   "execution_count": 661,
   "metadata": {},
   "outputs": [
    {
     "data": {
      "text/plain": [
       "[<matplotlib.lines.Line2D at 0x7f9f677dbb20>]"
      ]
     },
     "execution_count": 661,
     "metadata": {},
     "output_type": "execute_result"
    },
    {
     "data": {
      "image/png": "[encoded data removed]",
      "text/plain": [
       "<Figure size 432x288 with 1 Axes>"
      ]
     },
     "metadata": {
      "needs_background": "light"
     },
     "output_type": "display_data"
    }
   ],
   "source": [
    "plt.plot(fpr, tpr)"
   ]
  },
  {
   "cell_type": "code",
   "execution_count": 662,
   "metadata": {},
   "outputs": [
    {
     "data": {
      "text/plain": [
       "0.8819460751551935"
      ]
     },
     "execution_count": 662,
     "metadata": {},
     "output_type": "execute_result"
    }
   ],
   "source": [
    "auc(fpr, tpr)"
   ]
  },
  {
   "cell_type": "markdown",
   "metadata": {},
   "source": [
    "Переобучение снова есть, но разница незначительна. Модель показала наилучшее качество  "
   ]
  },
  {
   "cell_type": "markdown",
   "metadata": {},
   "source": [
    "## D"
   ]
  },
  {
   "cell_type": "code",
   "execution_count": 663,
   "metadata": {},
   "outputs": [
    {
     "data": {
      "image/png": "[encoded data removed]",
      "text/plain": [
       "<Figure size 1080x1080 with 2 Axes>"
      ]
     },
     "metadata": {
      "needs_background": "light"
     },
     "output_type": "display_data"
    }
   ],
   "source": [
    "plt.figure(figsize=(15,15))\n",
    "corr = data.corr()\n",
    "sns.heatmap(corr,annot=True,linewidths=.5, fmt= '.2f',mask=np.zeros_like(corr, dtype=np.bool), \\\n",
    "            cmap=sns.diverging_palette(100,200, as_cmap=True), square=True)\n",
    "plt.show()"
   ]
  },
  {
   "cell_type": "markdown",
   "metadata": {},
   "source": [
    "Не коррелируют с целевой: \n",
    "1. Account Length\n",
    "2. Area Code\n",
    "3. Number Vmail Messages\n",
    "4. Total Day Calls\n",
    "5. Total Eve Minutes \n",
    "6. Total Eve Calls\n",
    "7. Total Eve Charge\n",
    "8. Total Night Minutes\n",
    "9. Total Night Calls\n",
    "10. Total Night Charge\n",
    "11. Total Intl Minutes\n",
    "12. Total Intl Calls\n",
    "13. Total Intl Charge "
   ]
  },
  {
   "cell_type": "markdown",
   "metadata": {},
   "source": [
    "Остались только 3 переменные:\n",
    "1. Total Day Minutes\n",
    "2. Total Day Charge\n",
    "3. Customer Service Calls"
   ]
  },
  {
   "cell_type": "markdown",
   "metadata": {},
   "source": [
    "Из них между собой коррелируют Total Day Minutes и Total Day Charge. Оставляем только Total Day Minutes. В итоге имеем 2 переменные: Total Day Minutes и Customer Service Calls."
   ]
  },
  {
   "cell_type": "code",
   "execution_count": 675,
   "metadata": {},
   "outputs": [
    {
     "data": {
      "text/html": [
       "<div>\n",
       "<style scoped>\n",
       "    .dataframe tbody tr th:only-of-type {\n",
       "        vertical-align: middle;\n",
       "    }\n",
       "\n",
       "    .dataframe tbody tr th {\n",
       "        vertical-align: top;\n",
       "    }\n",
       "\n",
       "    .dataframe thead th {\n",
       "        text-align: right;\n",
       "    }\n",
       "</style>\n",
       "<table border=\"1\" class=\"dataframe\">\n",
       "  <thead>\n",
       "    <tr style=\"text-align: right;\">\n",
       "      <th></th>\n",
       "      <th>State</th>\n",
       "      <th>Account length</th>\n",
       "      <th>Area code</th>\n",
       "      <th>International plan</th>\n",
       "      <th>Voice mail plan</th>\n",
       "      <th>Number vmail messages</th>\n",
       "      <th>Total day minutes</th>\n",
       "      <th>Total day calls</th>\n",
       "      <th>Total day charge</th>\n",
       "      <th>Total eve minutes</th>\n",
       "      <th>Total eve calls</th>\n",
       "      <th>Total eve charge</th>\n",
       "      <th>Total night minutes</th>\n",
       "      <th>Total night calls</th>\n",
       "      <th>Total night charge</th>\n",
       "      <th>Total intl minutes</th>\n",
       "      <th>Total intl calls</th>\n",
       "      <th>Total intl charge</th>\n",
       "      <th>Customer service calls</th>\n",
       "    </tr>\n",
       "  </thead>\n",
       "  <tbody>\n",
       "    <tr>\n",
       "      <th>0</th>\n",
       "      <td>1</td>\n",
       "      <td>0.676489</td>\n",
       "      <td>1</td>\n",
       "      <td>0</td>\n",
       "      <td>1</td>\n",
       "      <td>1.234883</td>\n",
       "      <td>1.566767</td>\n",
       "      <td>0.476643</td>\n",
       "      <td>1.567036</td>\n",
       "      <td>-0.070610</td>\n",
       "      <td>-0.055940</td>\n",
       "      <td>-0.070427</td>\n",
       "      <td>0.866743</td>\n",
       "      <td>-0.465494</td>\n",
       "      <td>0.866029</td>\n",
       "      <td>-0.085008</td>\n",
       "      <td>-0.601195</td>\n",
       "      <td>-0.085690</td>\n",
       "      <td>-0.427932</td>\n",
       "    </tr>\n",
       "    <tr>\n",
       "      <th>1</th>\n",
       "      <td>2</td>\n",
       "      <td>0.149065</td>\n",
       "      <td>1</td>\n",
       "      <td>0</td>\n",
       "      <td>1</td>\n",
       "      <td>1.307948</td>\n",
       "      <td>-0.333738</td>\n",
       "      <td>1.124503</td>\n",
       "      <td>-0.334013</td>\n",
       "      <td>-0.108080</td>\n",
       "      <td>0.144867</td>\n",
       "      <td>-0.107549</td>\n",
       "      <td>1.058571</td>\n",
       "      <td>0.147825</td>\n",
       "      <td>1.059390</td>\n",
       "      <td>1.240482</td>\n",
       "      <td>-0.601195</td>\n",
       "      <td>1.241169</td>\n",
       "      <td>-0.427932</td>\n",
       "    </tr>\n",
       "    <tr>\n",
       "      <th>2</th>\n",
       "      <td>3</td>\n",
       "      <td>0.902529</td>\n",
       "      <td>1</td>\n",
       "      <td>0</td>\n",
       "      <td>0</td>\n",
       "      <td>-0.591760</td>\n",
       "      <td>1.168304</td>\n",
       "      <td>0.675985</td>\n",
       "      <td>1.168464</td>\n",
       "      <td>-1.573383</td>\n",
       "      <td>0.496279</td>\n",
       "      <td>-1.573900</td>\n",
       "      <td>-0.756869</td>\n",
       "      <td>0.198935</td>\n",
       "      <td>-0.755571</td>\n",
       "      <td>0.703121</td>\n",
       "      <td>0.211534</td>\n",
       "      <td>0.697156</td>\n",
       "      <td>-1.188218</td>\n",
       "    </tr>\n",
       "    <tr>\n",
       "      <th>3</th>\n",
       "      <td>2</td>\n",
       "      <td>-0.428590</td>\n",
       "      <td>2</td>\n",
       "      <td>1</td>\n",
       "      <td>0</td>\n",
       "      <td>-0.591760</td>\n",
       "      <td>2.196596</td>\n",
       "      <td>-1.466936</td>\n",
       "      <td>2.196759</td>\n",
       "      <td>-2.742865</td>\n",
       "      <td>-0.608159</td>\n",
       "      <td>-2.743268</td>\n",
       "      <td>-0.078551</td>\n",
       "      <td>-0.567714</td>\n",
       "      <td>-0.078806</td>\n",
       "      <td>-1.303026</td>\n",
       "      <td>1.024263</td>\n",
       "      <td>-1.306401</td>\n",
       "      <td>0.332354</td>\n",
       "    </tr>\n",
       "    <tr>\n",
       "      <th>4</th>\n",
       "      <td>4</td>\n",
       "      <td>-0.654629</td>\n",
       "      <td>1</td>\n",
       "      <td>1</td>\n",
       "      <td>0</td>\n",
       "      <td>-0.591760</td>\n",
       "      <td>-0.240090</td>\n",
       "      <td>0.626149</td>\n",
       "      <td>-0.240041</td>\n",
       "      <td>-1.038932</td>\n",
       "      <td>1.098699</td>\n",
       "      <td>-1.037939</td>\n",
       "      <td>-0.276311</td>\n",
       "      <td>1.067803</td>\n",
       "      <td>-0.276562</td>\n",
       "      <td>-0.049184</td>\n",
       "      <td>-0.601195</td>\n",
       "      <td>-0.045885</td>\n",
       "      <td>1.092641</td>\n",
       "    </tr>\n",
       "    <tr>\n",
       "      <th>...</th>\n",
       "      <td>...</td>\n",
       "      <td>...</td>\n",
       "      <td>...</td>\n",
       "      <td>...</td>\n",
       "      <td>...</td>\n",
       "      <td>...</td>\n",
       "      <td>...</td>\n",
       "      <td>...</td>\n",
       "      <td>...</td>\n",
       "      <td>...</td>\n",
       "      <td>...</td>\n",
       "      <td>...</td>\n",
       "      <td>...</td>\n",
       "      <td>...</td>\n",
       "      <td>...</td>\n",
       "      <td>...</td>\n",
       "      <td>...</td>\n",
       "      <td>...</td>\n",
       "      <td>...</td>\n",
       "    </tr>\n",
       "    <tr>\n",
       "      <th>3328</th>\n",
       "      <td>21</td>\n",
       "      <td>2.283878</td>\n",
       "      <td>1</td>\n",
       "      <td>0</td>\n",
       "      <td>1</td>\n",
       "      <td>2.038605</td>\n",
       "      <td>-0.432895</td>\n",
       "      <td>-1.167924</td>\n",
       "      <td>-0.433386</td>\n",
       "      <td>0.286348</td>\n",
       "      <td>1.299506</td>\n",
       "      <td>0.286880</td>\n",
       "      <td>1.547039</td>\n",
       "      <td>-0.874374</td>\n",
       "      <td>1.547188</td>\n",
       "      <td>-0.120832</td>\n",
       "      <td>0.617898</td>\n",
       "      <td>-0.125496</td>\n",
       "      <td>0.332354</td>\n",
       "    </tr>\n",
       "    <tr>\n",
       "      <th>3329</th>\n",
       "      <td>9</td>\n",
       "      <td>-0.830437</td>\n",
       "      <td>1</td>\n",
       "      <td>0</td>\n",
       "      <td>0</td>\n",
       "      <td>-0.591760</td>\n",
       "      <td>0.942447</td>\n",
       "      <td>-2.164631</td>\n",
       "      <td>0.942714</td>\n",
       "      <td>-0.938353</td>\n",
       "      <td>-2.264816</td>\n",
       "      <td>-0.938172</td>\n",
       "      <td>-0.189297</td>\n",
       "      <td>1.170023</td>\n",
       "      <td>-0.188670</td>\n",
       "      <td>-0.228304</td>\n",
       "      <td>-0.194831</td>\n",
       "      <td>-0.231645</td>\n",
       "      <td>1.092641</td>\n",
       "    </tr>\n",
       "    <tr>\n",
       "      <th>3330</th>\n",
       "      <td>11</td>\n",
       "      <td>-1.835055</td>\n",
       "      <td>3</td>\n",
       "      <td>0</td>\n",
       "      <td>0</td>\n",
       "      <td>-0.591760</td>\n",
       "      <td>0.018820</td>\n",
       "      <td>0.426808</td>\n",
       "      <td>0.019193</td>\n",
       "      <td>1.731930</td>\n",
       "      <td>-2.114211</td>\n",
       "      <td>1.732349</td>\n",
       "      <td>-0.177431</td>\n",
       "      <td>-0.465494</td>\n",
       "      <td>-0.175486</td>\n",
       "      <td>1.383778</td>\n",
       "      <td>0.617898</td>\n",
       "      <td>1.387123</td>\n",
       "      <td>0.332354</td>\n",
       "    </tr>\n",
       "    <tr>\n",
       "      <th>3331</th>\n",
       "      <td>50</td>\n",
       "      <td>2.082955</td>\n",
       "      <td>3</td>\n",
       "      <td>1</td>\n",
       "      <td>0</td>\n",
       "      <td>-0.591760</td>\n",
       "      <td>0.624778</td>\n",
       "      <td>0.227466</td>\n",
       "      <td>0.625153</td>\n",
       "      <td>-0.816080</td>\n",
       "      <td>-0.808966</td>\n",
       "      <td>-0.815203</td>\n",
       "      <td>-1.219628</td>\n",
       "      <td>1.885562</td>\n",
       "      <td>-1.221396</td>\n",
       "      <td>-1.876211</td>\n",
       "      <td>2.243356</td>\n",
       "      <td>-1.876950</td>\n",
       "      <td>0.332354</td>\n",
       "    </tr>\n",
       "    <tr>\n",
       "      <th>3332</th>\n",
       "      <td>48</td>\n",
       "      <td>-0.679745</td>\n",
       "      <td>1</td>\n",
       "      <td>0</td>\n",
       "      <td>1</td>\n",
       "      <td>1.234883</td>\n",
       "      <td>1.003042</td>\n",
       "      <td>0.626149</td>\n",
       "      <td>1.003202</td>\n",
       "      <td>1.280309</td>\n",
       "      <td>-0.909370</td>\n",
       "      <td>1.279915</td>\n",
       "      <td>0.801482</td>\n",
       "      <td>-1.181033</td>\n",
       "      <td>0.800110</td>\n",
       "      <td>1.240482</td>\n",
       "      <td>-0.194831</td>\n",
       "      <td>1.241169</td>\n",
       "      <td>-1.188218</td>\n",
       "    </tr>\n",
       "  </tbody>\n",
       "</table>\n",
       "<p>3333 rows × 19 columns</p>\n",
       "</div>"
      ],
      "text/plain": [
       "      State  Account length  Area code  International plan  Voice mail plan  \\\n",
       "0         1        0.676489          1                   0                1   \n",
       "1         2        0.149065          1                   0                1   \n",
       "2         3        0.902529          1                   0                0   \n",
       "3         2       -0.428590          2                   1                0   \n",
       "4         4       -0.654629          1                   1                0   \n",
       "...     ...             ...        ...                 ...              ...   \n",
       "3328     21        2.283878          1                   0                1   \n",
       "3329      9       -0.830437          1                   0                0   \n",
       "3330     11       -1.835055          3                   0                0   \n",
       "3331     50        2.082955          3                   1                0   \n",
       "3332     48       -0.679745          1                   0                1   \n",
       "\n",
       "      Number vmail messages  Total day minutes  Total day calls  \\\n",
       "0                  1.234883           1.566767         0.476643   \n",
       "1                  1.307948          -0.333738         1.124503   \n",
       "2                 -0.591760           1.168304         0.675985   \n",
       "3                 -0.591760           2.196596        -1.466936   \n",
       "4                 -0.591760          -0.240090         0.626149   \n",
       "...                     ...                ...              ...   \n",
       "3328               2.038605          -0.432895        -1.167924   \n",
       "3329              -0.591760           0.942447        -2.164631   \n",
       "3330              -0.591760           0.018820         0.426808   \n",
       "3331              -0.591760           0.624778         0.227466   \n",
       "3332               1.234883           1.003042         0.626149   \n",
       "\n",
       "      Total day charge  Total eve minutes  Total eve calls  Total eve charge  \\\n",
       "0             1.567036          -0.070610        -0.055940         -0.070427   \n",
       "1            -0.334013          -0.108080         0.144867         -0.107549   \n",
       "2             1.168464          -1.573383         0.496279         -1.573900   \n",
       "3             2.196759          -2.742865        -0.608159         -2.743268   \n",
       "4            -0.240041          -1.038932         1.098699         -1.037939   \n",
       "...                ...                ...              ...               ...   \n",
       "3328         -0.433386           0.286348         1.299506          0.286880   \n",
       "3329          0.942714          -0.938353        -2.264816         -0.938172   \n",
       "3330          0.019193           1.731930        -2.114211          1.732349   \n",
       "3331          0.625153          -0.816080        -0.808966         -0.815203   \n",
       "3332          1.003202           1.280309        -0.909370          1.279915   \n",
       "\n",
       "      Total night minutes  Total night calls  Total night charge  \\\n",
       "0                0.866743          -0.465494            0.866029   \n",
       "1                1.058571           0.147825            1.059390   \n",
       "2               -0.756869           0.198935           -0.755571   \n",
       "3               -0.078551          -0.567714           -0.078806   \n",
       "4               -0.276311           1.067803           -0.276562   \n",
       "...                   ...                ...                 ...   \n",
       "3328             1.547039          -0.874374            1.547188   \n",
       "3329            -0.189297           1.170023           -0.188670   \n",
       "3330            -0.177431          -0.465494           -0.175486   \n",
       "3331            -1.219628           1.885562           -1.221396   \n",
       "3332             0.801482          -1.181033            0.800110   \n",
       "\n",
       "      Total intl minutes  Total intl calls  Total intl charge  \\\n",
       "0              -0.085008         -0.601195          -0.085690   \n",
       "1               1.240482         -0.601195           1.241169   \n",
       "2               0.703121          0.211534           0.697156   \n",
       "3              -1.303026          1.024263          -1.306401   \n",
       "4              -0.049184         -0.601195          -0.045885   \n",
       "...                  ...               ...                ...   \n",
       "3328           -0.120832          0.617898          -0.125496   \n",
       "3329           -0.228304         -0.194831          -0.231645   \n",
       "3330            1.383778          0.617898           1.387123   \n",
       "3331           -1.876211          2.243356          -1.876950   \n",
       "3332            1.240482         -0.194831           1.241169   \n",
       "\n",
       "      Customer service calls  \n",
       "0                  -0.427932  \n",
       "1                  -0.427932  \n",
       "2                  -1.188218  \n",
       "3                   0.332354  \n",
       "4                   1.092641  \n",
       "...                      ...  \n",
       "3328                0.332354  \n",
       "3329                1.092641  \n",
       "3330                0.332354  \n",
       "3331                0.332354  \n",
       "3332               -1.188218  \n",
       "\n",
       "[3333 rows x 19 columns]"
      ]
     },
     "execution_count": 675,
     "metadata": {},
     "output_type": "execute_result"
    }
   ],
   "source": [
    "X"
   ]
  },
  {
   "cell_type": "code",
   "execution_count": 676,
   "metadata": {},
   "outputs": [
    {
     "data": {
      "text/html": [
       "<div>\n",
       "<style scoped>\n",
       "    .dataframe tbody tr th:only-of-type {\n",
       "        vertical-align: middle;\n",
       "    }\n",
       "\n",
       "    .dataframe tbody tr th {\n",
       "        vertical-align: top;\n",
       "    }\n",
       "\n",
       "    .dataframe thead th {\n",
       "        text-align: right;\n",
       "    }\n",
       "</style>\n",
       "<table border=\"1\" class=\"dataframe\">\n",
       "  <thead>\n",
       "    <tr style=\"text-align: right;\">\n",
       "      <th></th>\n",
       "      <th>Total day minutes</th>\n",
       "      <th>Customer service calls</th>\n",
       "    </tr>\n",
       "  </thead>\n",
       "  <tbody>\n",
       "    <tr>\n",
       "      <th>0</th>\n",
       "      <td>1.566767</td>\n",
       "      <td>-0.427932</td>\n",
       "    </tr>\n",
       "    <tr>\n",
       "      <th>1</th>\n",
       "      <td>-0.333738</td>\n",
       "      <td>-0.427932</td>\n",
       "    </tr>\n",
       "    <tr>\n",
       "      <th>2</th>\n",
       "      <td>1.168304</td>\n",
       "      <td>-1.188218</td>\n",
       "    </tr>\n",
       "    <tr>\n",
       "      <th>3</th>\n",
       "      <td>2.196596</td>\n",
       "      <td>0.332354</td>\n",
       "    </tr>\n",
       "    <tr>\n",
       "      <th>4</th>\n",
       "      <td>-0.240090</td>\n",
       "      <td>1.092641</td>\n",
       "    </tr>\n",
       "    <tr>\n",
       "      <th>...</th>\n",
       "      <td>...</td>\n",
       "      <td>...</td>\n",
       "    </tr>\n",
       "    <tr>\n",
       "      <th>3328</th>\n",
       "      <td>-0.432895</td>\n",
       "      <td>0.332354</td>\n",
       "    </tr>\n",
       "    <tr>\n",
       "      <th>3329</th>\n",
       "      <td>0.942447</td>\n",
       "      <td>1.092641</td>\n",
       "    </tr>\n",
       "    <tr>\n",
       "      <th>3330</th>\n",
       "      <td>0.018820</td>\n",
       "      <td>0.332354</td>\n",
       "    </tr>\n",
       "    <tr>\n",
       "      <th>3331</th>\n",
       "      <td>0.624778</td>\n",
       "      <td>0.332354</td>\n",
       "    </tr>\n",
       "    <tr>\n",
       "      <th>3332</th>\n",
       "      <td>1.003042</td>\n",
       "      <td>-1.188218</td>\n",
       "    </tr>\n",
       "  </tbody>\n",
       "</table>\n",
       "<p>3333 rows × 2 columns</p>\n",
       "</div>"
      ],
      "text/plain": [
       "      Total day minutes  Customer service calls\n",
       "0              1.566767               -0.427932\n",
       "1             -0.333738               -0.427932\n",
       "2              1.168304               -1.188218\n",
       "3              2.196596                0.332354\n",
       "4             -0.240090                1.092641\n",
       "...                 ...                     ...\n",
       "3328          -0.432895                0.332354\n",
       "3329           0.942447                1.092641\n",
       "3330           0.018820                0.332354\n",
       "3331           0.624778                0.332354\n",
       "3332           1.003042               -1.188218\n",
       "\n",
       "[3333 rows x 2 columns]"
      ]
     },
     "execution_count": 676,
     "metadata": {},
     "output_type": "execute_result"
    }
   ],
   "source": [
    "X2 = X[[\"Total day minutes\", \"Customer service calls\"]]\n",
    "X2"
   ]
  },
  {
   "cell_type": "code",
   "execution_count": 677,
   "metadata": {},
   "outputs": [
    {
     "name": "stdout",
     "output_type": "stream",
     "text": [
      "best score: 0.854185970078024\n",
      "best params: {'C': 0.1}\n"
     ]
    }
   ],
   "source": [
    "model = LogisticRegression(solver='lbfgs', multi_class='auto')\n",
    "params = {'C': np.arange(0.1,1.1,0.1)}\n",
    "grid = GridSearchCV(model, params)\n",
    "\n",
    "grid.fit(X2, y)\n",
    "\n",
    "print('best score:', grid.best_score_)\n",
    "print('best params:', grid.best_params_)"
   ]
  },
  {
   "cell_type": "code",
   "execution_count": 678,
   "metadata": {},
   "outputs": [],
   "source": [
    "Xtrain2, Xtest2, ytrain2, ytest2 = train_test_split(X2, y, test_size=0.3)"
   ]
  },
  {
   "cell_type": "markdown",
   "metadata": {},
   "source": [
    "### accuracy"
   ]
  },
  {
   "cell_type": "code",
   "execution_count": 679,
   "metadata": {},
   "outputs": [
    {
     "data": {
      "text/plain": [
       "(0.8529789969995714, 0.86)"
      ]
     },
     "execution_count": 679,
     "metadata": {},
     "output_type": "execute_result"
    }
   ],
   "source": [
    "model = LogisticRegression(solver='lbfgs', multi_class='auto', C=0.1)\n",
    "model.fit(Xtrain2, ytrain2)\n",
    "\n",
    "pred_train_lol = model.predict(Xtrain2)\n",
    "pred_test_lol = model.predict(Xtest2)\n",
    "\n",
    "accuracy_score(ytrain2, pred_train_lol), accuracy_score(ytest2, pred_test_lol)"
   ]
  },
  {
   "cell_type": "markdown",
   "metadata": {},
   "source": [
    "### f1"
   ]
  },
  {
   "cell_type": "code",
   "execution_count": 680,
   "metadata": {},
   "outputs": [
    {
     "data": {
      "text/plain": [
       "(0.08533333333333333, 0.05405405405405405)"
      ]
     },
     "execution_count": 680,
     "metadata": {},
     "output_type": "execute_result"
    }
   ],
   "source": [
    "f1_score(ytrain2, pred_train_lol), f1_score(ytest2, pred_test_lol)"
   ]
  },
  {
   "cell_type": "markdown",
   "metadata": {},
   "source": [
    "### ROC-AUC"
   ]
  },
  {
   "cell_type": "code",
   "execution_count": 681,
   "metadata": {},
   "outputs": [],
   "source": [
    "tpr, fpr, _ = roc_curve(ytrain2, model.predict_proba(Xtrain2)[:, 0])"
   ]
  },
  {
   "cell_type": "code",
   "execution_count": 682,
   "metadata": {},
   "outputs": [
    {
     "data": {
      "text/plain": [
       "[<matplotlib.lines.Line2D at 0x7f9f4bc29670>]"
      ]
     },
     "execution_count": 682,
     "metadata": {},
     "output_type": "execute_result"
    },
    {
     "data": {
      "image/png": "[encoded data removed]",
      "text/plain": [
       "<Figure size 432x288 with 1 Axes>"
      ]
     },
     "metadata": {
      "needs_background": "light"
     },
     "output_type": "display_data"
    }
   ],
   "source": [
    "plt.plot(fpr, tpr)"
   ]
  },
  {
   "cell_type": "code",
   "execution_count": 683,
   "metadata": {},
   "outputs": [
    {
     "data": {
      "text/plain": [
       "0.7412939332229662"
      ]
     },
     "execution_count": 683,
     "metadata": {},
     "output_type": "execute_result"
    }
   ],
   "source": [
    "auc(fpr, tpr)"
   ]
  },
  {
   "cell_type": "markdown",
   "metadata": {},
   "source": [
    "Переобучения нет, но модель оказалась хуже остальных. AUC < 0.8"
   ]
  },
  {
   "cell_type": "markdown",
   "metadata": {},
   "source": [
    "## E"
   ]
  },
  {
   "cell_type": "code",
   "execution_count": 686,
   "metadata": {},
   "outputs": [],
   "source": [
    "results = pd.DataFrame({'model': ['A', 'B', 'C', 'D'], \n",
    "                        'accuracy_train': [0.8705529361337334, 0.8576939562794685, 0.9039862837548222, 0.8529789969995714], \n",
    "                        'accuracy_test': [0.849, 0.849, 0.882, 0.86],\n",
    "                        'f1_train': [0.33480176211453744, 0, 0.6097560975609756, 0.08533333333333333],\n",
    "                        'f1_test': [0.24875621890547267, 0, 0.528, 0.05405405405405405],\n",
    "                        'AUC': [0.8248195179518674, 0.8132786016630239, 0.8819460751551935, 0.7412939332229662]})"
   ]
  },
  {
   "cell_type": "code",
   "execution_count": 687,
   "metadata": {},
   "outputs": [
    {
     "data": {
      "text/html": [
       "<div>\n",
       "<style scoped>\n",
       "    .dataframe tbody tr th:only-of-type {\n",
       "        vertical-align: middle;\n",
       "    }\n",
       "\n",
       "    .dataframe tbody tr th {\n",
       "        vertical-align: top;\n",
       "    }\n",
       "\n",
       "    .dataframe thead th {\n",
       "        text-align: right;\n",
       "    }\n",
       "</style>\n",
       "<table border=\"1\" class=\"dataframe\">\n",
       "  <thead>\n",
       "    <tr style=\"text-align: right;\">\n",
       "      <th></th>\n",
       "      <th>model</th>\n",
       "      <th>accuracy_train</th>\n",
       "      <th>accuracy_test</th>\n",
       "      <th>f1_train</th>\n",
       "      <th>f1_test</th>\n",
       "      <th>AUC</th>\n",
       "    </tr>\n",
       "  </thead>\n",
       "  <tbody>\n",
       "    <tr>\n",
       "      <th>0</th>\n",
       "      <td>A</td>\n",
       "      <td>0.870553</td>\n",
       "      <td>0.849</td>\n",
       "      <td>0.334802</td>\n",
       "      <td>0.248756</td>\n",
       "      <td>0.824820</td>\n",
       "    </tr>\n",
       "    <tr>\n",
       "      <th>1</th>\n",
       "      <td>B</td>\n",
       "      <td>0.857694</td>\n",
       "      <td>0.849</td>\n",
       "      <td>0.000000</td>\n",
       "      <td>0.000000</td>\n",
       "      <td>0.813279</td>\n",
       "    </tr>\n",
       "    <tr>\n",
       "      <th>2</th>\n",
       "      <td>C</td>\n",
       "      <td>0.903986</td>\n",
       "      <td>0.882</td>\n",
       "      <td>0.609756</td>\n",
       "      <td>0.528000</td>\n",
       "      <td>0.881946</td>\n",
       "    </tr>\n",
       "    <tr>\n",
       "      <th>3</th>\n",
       "      <td>D</td>\n",
       "      <td>0.852979</td>\n",
       "      <td>0.860</td>\n",
       "      <td>0.085333</td>\n",
       "      <td>0.054054</td>\n",
       "      <td>0.741294</td>\n",
       "    </tr>\n",
       "  </tbody>\n",
       "</table>\n",
       "</div>"
      ],
      "text/plain": [
       "  model  accuracy_train  accuracy_test  f1_train   f1_test       AUC\n",
       "0     A        0.870553          0.849  0.334802  0.248756  0.824820\n",
       "1     B        0.857694          0.849  0.000000  0.000000  0.813279\n",
       "2     C        0.903986          0.882  0.609756  0.528000  0.881946\n",
       "3     D        0.852979          0.860  0.085333  0.054054  0.741294"
      ]
     },
     "execution_count": 687,
     "metadata": {},
     "output_type": "execute_result"
    }
   ],
   "source": [
    "results"
   ]
  },
  {
   "cell_type": "markdown",
   "metadata": {},
   "source": [
    "а) C-модель показала наилучшие результаты: максимальные accuracy_test, f1_test и AUC. \n",
    "\n",
    "b) В С были добавлены полиномиальные признаки, а в D - подробнее расписано в соответствующем пункте задачи. \n",
    "\n",
    "c) Ну, в моделях A, B и C имеет место переобучение, так как train > test, но разница совсем маленькая. В D переобучения нет. "
   ]
  },
  {
   "cell_type": "markdown",
   "metadata": {},
   "source": [
    "## Часть 2. Оценка качества моделей классификации (5 баллов).\n",
    "\n",
    "* Колонки 0, 1, ..., 13 - анонимизированные характеристики клиентов (некоторые числовые, некоторые категориальные). \n",
    "* Target - целевая переменная: 1 - выдать кредит, 0 - не выдать кредит.\n",
    "\n",
    "На этих данных было обучено три различных алгоритма классификации и получены предсказания:\n",
    "* pred1_probs - предсказанные вероятности положительного класса, полученные алгоритмом 1.\n",
    "* pred1_classes - предсказанные алгоритмом 1 классы\n",
    "* pred2_probs, pred2_classes, pred3_probs, pred3_classes - аналогичные величины для алгоритмов 2 и 3\n",
    "\n",
    "Наша задача - оценить качество каждого из трех алгоритмов и разобраться, какой из алгоритмов лучше всего работает в данной задаче."
   ]
  },
  {
   "cell_type": "code",
   "execution_count": 576,
   "metadata": {},
   "outputs": [
    {
     "data": {
      "text/html": [
       "<div>\n",
       "<style scoped>\n",
       "    .dataframe tbody tr th:only-of-type {\n",
       "        vertical-align: middle;\n",
       "    }\n",
       "\n",
       "    .dataframe tbody tr th {\n",
       "        vertical-align: top;\n",
       "    }\n",
       "\n",
       "    .dataframe thead th {\n",
       "        text-align: right;\n",
       "    }\n",
       "</style>\n",
       "<table border=\"1\" class=\"dataframe\">\n",
       "  <thead>\n",
       "    <tr style=\"text-align: right;\">\n",
       "      <th></th>\n",
       "      <th>0</th>\n",
       "      <th>1</th>\n",
       "      <th>2</th>\n",
       "      <th>3</th>\n",
       "      <th>4</th>\n",
       "      <th>5</th>\n",
       "      <th>6</th>\n",
       "      <th>7</th>\n",
       "      <th>8</th>\n",
       "      <th>9</th>\n",
       "      <th>...</th>\n",
       "      <th>11</th>\n",
       "      <th>12</th>\n",
       "      <th>13</th>\n",
       "      <th>target</th>\n",
       "      <th>pred1_probs</th>\n",
       "      <th>pred1_classes</th>\n",
       "      <th>pred2_probs</th>\n",
       "      <th>pred2_classes</th>\n",
       "      <th>pred3_probs</th>\n",
       "      <th>pred3_classes</th>\n",
       "    </tr>\n",
       "  </thead>\n",
       "  <tbody>\n",
       "    <tr>\n",
       "      <th>0</th>\n",
       "      <td>1</td>\n",
       "      <td>22.08</td>\n",
       "      <td>11.46</td>\n",
       "      <td>2</td>\n",
       "      <td>4</td>\n",
       "      <td>4</td>\n",
       "      <td>1.585</td>\n",
       "      <td>0</td>\n",
       "      <td>0</td>\n",
       "      <td>0</td>\n",
       "      <td>...</td>\n",
       "      <td>2</td>\n",
       "      <td>100</td>\n",
       "      <td>1213</td>\n",
       "      <td>0</td>\n",
       "      <td>0.506772</td>\n",
       "      <td>1</td>\n",
       "      <td>0.610853</td>\n",
       "      <td>1</td>\n",
       "      <td>0.375494</td>\n",
       "      <td>0</td>\n",
       "    </tr>\n",
       "    <tr>\n",
       "      <th>1</th>\n",
       "      <td>0</td>\n",
       "      <td>22.67</td>\n",
       "      <td>7.00</td>\n",
       "      <td>2</td>\n",
       "      <td>8</td>\n",
       "      <td>4</td>\n",
       "      <td>0.165</td>\n",
       "      <td>0</td>\n",
       "      <td>0</td>\n",
       "      <td>0</td>\n",
       "      <td>...</td>\n",
       "      <td>2</td>\n",
       "      <td>160</td>\n",
       "      <td>1</td>\n",
       "      <td>0</td>\n",
       "      <td>0.358519</td>\n",
       "      <td>0</td>\n",
       "      <td>0.185941</td>\n",
       "      <td>0</td>\n",
       "      <td>0.200975</td>\n",
       "      <td>0</td>\n",
       "    </tr>\n",
       "    <tr>\n",
       "      <th>2</th>\n",
       "      <td>0</td>\n",
       "      <td>29.58</td>\n",
       "      <td>1.75</td>\n",
       "      <td>1</td>\n",
       "      <td>4</td>\n",
       "      <td>4</td>\n",
       "      <td>1.250</td>\n",
       "      <td>0</td>\n",
       "      <td>0</td>\n",
       "      <td>0</td>\n",
       "      <td>...</td>\n",
       "      <td>2</td>\n",
       "      <td>280</td>\n",
       "      <td>1</td>\n",
       "      <td>0</td>\n",
       "      <td>0.358753</td>\n",
       "      <td>0</td>\n",
       "      <td>0.523009</td>\n",
       "      <td>1</td>\n",
       "      <td>0.160465</td>\n",
       "      <td>0</td>\n",
       "    </tr>\n",
       "    <tr>\n",
       "      <th>3</th>\n",
       "      <td>0</td>\n",
       "      <td>21.67</td>\n",
       "      <td>11.50</td>\n",
       "      <td>1</td>\n",
       "      <td>5</td>\n",
       "      <td>3</td>\n",
       "      <td>0.000</td>\n",
       "      <td>1</td>\n",
       "      <td>1</td>\n",
       "      <td>11</td>\n",
       "      <td>...</td>\n",
       "      <td>2</td>\n",
       "      <td>0</td>\n",
       "      <td>1</td>\n",
       "      <td>1</td>\n",
       "      <td>0.408729</td>\n",
       "      <td>0</td>\n",
       "      <td>0.185941</td>\n",
       "      <td>0</td>\n",
       "      <td>0.357771</td>\n",
       "      <td>0</td>\n",
       "    </tr>\n",
       "    <tr>\n",
       "      <th>4</th>\n",
       "      <td>1</td>\n",
       "      <td>20.17</td>\n",
       "      <td>8.17</td>\n",
       "      <td>2</td>\n",
       "      <td>6</td>\n",
       "      <td>4</td>\n",
       "      <td>1.960</td>\n",
       "      <td>1</td>\n",
       "      <td>1</td>\n",
       "      <td>14</td>\n",
       "      <td>...</td>\n",
       "      <td>2</td>\n",
       "      <td>60</td>\n",
       "      <td>159</td>\n",
       "      <td>1</td>\n",
       "      <td>0.480904</td>\n",
       "      <td>0</td>\n",
       "      <td>0.526646</td>\n",
       "      <td>1</td>\n",
       "      <td>0.260169</td>\n",
       "      <td>0</td>\n",
       "    </tr>\n",
       "  </tbody>\n",
       "</table>\n",
       "<p>5 rows × 21 columns</p>\n",
       "</div>"
      ],
      "text/plain": [
       "   0      1      2  3  4  5      6  7  8   9  ...  11   12    13  target  \\\n",
       "0  1  22.08  11.46  2  4  4  1.585  0  0   0  ...   2  100  1213       0   \n",
       "1  0  22.67   7.00  2  8  4  0.165  0  0   0  ...   2  160     1       0   \n",
       "2  0  29.58   1.75  1  4  4  1.250  0  0   0  ...   2  280     1       0   \n",
       "3  0  21.67  11.50  1  5  3  0.000  1  1  11  ...   2    0     1       1   \n",
       "4  1  20.17   8.17  2  6  4  1.960  1  1  14  ...   2   60   159       1   \n",
       "\n",
       "   pred1_probs  pred1_classes  pred2_probs  pred2_classes  pred3_probs  \\\n",
       "0     0.506772              1     0.610853              1     0.375494   \n",
       "1     0.358519              0     0.185941              0     0.200975   \n",
       "2     0.358753              0     0.523009              1     0.160465   \n",
       "3     0.408729              0     0.185941              0     0.357771   \n",
       "4     0.480904              0     0.526646              1     0.260169   \n",
       "\n",
       "   pred3_classes  \n",
       "0              0  \n",
       "1              0  \n",
       "2              0  \n",
       "3              0  \n",
       "4              0  \n",
       "\n",
       "[5 rows x 21 columns]"
      ]
     },
     "execution_count": 576,
     "metadata": {},
     "output_type": "execute_result"
    }
   ],
   "source": [
    "df = pd.read_csv(\"credit_scoring_example1.csv\")\n",
    "df.head()"
   ]
  },
  {
   "cell_type": "code",
   "execution_count": 577,
   "metadata": {},
   "outputs": [
    {
     "data": {
      "text/plain": [
       "(689, 21)"
      ]
     },
     "execution_count": 577,
     "metadata": {},
     "output_type": "execute_result"
    }
   ],
   "source": [
    "df.shape"
   ]
  },
  {
   "cell_type": "markdown",
   "metadata": {},
   "source": [
    "**Задание 1.** Проверьте target на сбалансированность по классам, сделайте вывод."
   ]
  },
  {
   "cell_type": "code",
   "execution_count": 578,
   "metadata": {},
   "outputs": [
    {
     "data": {
      "text/plain": [
       "0    0.554427\n",
       "1    0.445573\n",
       "Name: target, dtype: float64"
      ]
     },
     "execution_count": 578,
     "metadata": {},
     "output_type": "execute_result"
    }
   ],
   "source": [
    "df['target'].value_counts(normalize=True)"
   ]
  },
  {
   "cell_type": "markdown",
   "metadata": {},
   "source": [
    "Сбаланирован"
   ]
  },
  {
   "cell_type": "markdown",
   "metadata": {},
   "source": [
    "**Задание 2.** Вычислите accuracy - долю правильных ответов каждого из алгоритмов. Какой алгоритм имеет наибольшую accuracy?"
   ]
  },
  {
   "cell_type": "code",
   "execution_count": 583,
   "metadata": {},
   "outputs": [
    {
     "name": "stdout",
     "output_type": "stream",
     "text": [
      "1-ый алгоритм: 0.6618287373004355\n",
      "2-ой алгоритм: 0.6719883889695211\n",
      "3-ий алгоритм: 0.6400580551523948\n"
     ]
    }
   ],
   "source": [
    "print('1-ый алгоритм:', accuracy_score(df['target'], df['pred1_classes']))\n",
    "print('2-ой алгоритм:', accuracy_score(df['target'], df['pred2_classes']))\n",
    "print('3-ий алгоритм:', accuracy_score(df['target'], df['pred3_classes']))"
   ]
  },
  {
   "cell_type": "markdown",
   "metadata": {},
   "source": [
    "Наибольшее значение метрики у второго алгоритма. "
   ]
  },
  {
   "cell_type": "markdown",
   "metadata": {},
   "source": [
    "**Задание 3.** Теперь вычислите точность и полноту каждого из алгоритмов."
   ]
  },
  {
   "cell_type": "markdown",
   "metadata": {},
   "source": [
    "Точность"
   ]
  },
  {
   "cell_type": "code",
   "execution_count": 587,
   "metadata": {},
   "outputs": [
    {
     "name": "stdout",
     "output_type": "stream",
     "text": [
      "1-ый алгоритм: 0.6907216494845361\n",
      "2-ой алгоритм: 0.6103542234332425\n",
      "3-ий алгоритм: 0.6903225806451613\n"
     ]
    }
   ],
   "source": [
    "print('1-ый алгоритм:', precision_score(df['target'], df['pred1_classes']))\n",
    "print('2-ой алгоритм:', precision_score(df['target'], df['pred2_classes']))\n",
    "print('3-ий алгоритм:', precision_score(df['target'], df['pred3_classes']))"
   ]
  },
  {
   "cell_type": "markdown",
   "metadata": {},
   "source": [
    "Полнота"
   ]
  },
  {
   "cell_type": "code",
   "execution_count": 588,
   "metadata": {},
   "outputs": [
    {
     "name": "stdout",
     "output_type": "stream",
     "text": [
      "1-ый алгоритм: 0.4364820846905538\n",
      "2-ой алгоритм: 0.7296416938110749\n",
      "3-ий алгоритм: 0.3485342019543974\n"
     ]
    }
   ],
   "source": [
    "print('1-ый алгоритм:', recall_score(df['target'], df['pred1_classes']))\n",
    "print('2-ой алгоритм:', recall_score(df['target'], df['pred2_classes']))\n",
    "print('3-ий алгоритм:', recall_score(df['target'], df['pred3_classes']))"
   ]
  },
  {
   "cell_type": "markdown",
   "metadata": {},
   "source": [
    "Самым полезным инструментом в практических задачах является ***матрица ошибок***. Смотря на неё и регулируя порог, определяющий классы, мы можем достичь оптимального решения нашей задачи.\n",
    "\n",
    "**Задание 4.** Используя функцию plot_confusion_matrix для визуализации матрицы ошибок, нарисуйте матрицы ошибок всех трех алгоритмов."
   ]
  },
  {
   "cell_type": "code",
   "execution_count": 590,
   "metadata": {},
   "outputs": [],
   "source": [
    "import itertools\n",
    "from sklearn.metrics import confusion_matrix\n",
    "\n",
    "def plot_confusion_matrix(cm, classes,\n",
    "                          normalize=False,\n",
    "                          title='Confusion matrix',\n",
    "                          cmap=plt.cm.Blues):\n",
    " \n",
    "    plt.imshow(cm, interpolation='nearest', cmap=cmap)\n",
    "    plt.title(title)\n",
    "    plt.colorbar()\n",
    "    tick_marks = np.arange(len(classes))\n",
    "    plt.xticks(tick_marks, classes, rotation=45)\n",
    "    plt.yticks(tick_marks, classes)\n",
    " \n",
    "    fmt = '.2f' if normalize else 'd'\n",
    "    thresh = cm.max() / 2.\n",
    "    for i, j in itertools.product(range(cm.shape[0]), range(cm.shape[1])):\n",
    "        plt.text(j, i, format(cm[i, j], fmt),\n",
    "                 horizontalalignment=\"center\",\n",
    "                 color=\"white\" if cm[i, j] > thresh else \"black\")\n",
    " \n",
    "    plt.tight_layout()\n",
    "    plt.ylabel('True label')\n",
    "    plt.xlabel('Predicted label')"
   ]
  },
  {
   "cell_type": "code",
   "execution_count": 593,
   "metadata": {},
   "outputs": [],
   "source": [
    "cnf_matrix1 = confusion_matrix(df['target'], df['pred1_classes'])\n",
    "cnf_matrix2 = confusion_matrix(df['target'], df['pred2_classes'])\n",
    "cnf_matrix3 = confusion_matrix(df['target'], df['pred3_classes'])\n",
    "np.set_printoptions(precision=2)"
   ]
  },
  {
   "cell_type": "markdown",
   "metadata": {},
   "source": [
    "### 1-ый алгоритм"
   ]
  },
  {
   "cell_type": "code",
   "execution_count": 604,
   "metadata": {},
   "outputs": [
    {
     "data": {
      "image/png": "[encoded data removed]",
      "text/plain": [
       "<Figure size 432x288 with 2 Axes>"
      ]
     },
     "metadata": {
      "needs_background": "light"
     },
     "output_type": "display_data"
    }
   ],
   "source": [
    "plt.figure()\n",
    "plot_confusion_matrix(cnf_matrix1, classes=['Negatives', 'Positives'],\n",
    "                      normalize=True,\n",
    "                      title='Normalized confusion matrix')\n",
    "\n",
    "plt.show()"
   ]
  },
  {
   "cell_type": "markdown",
   "metadata": {},
   "source": [
    "### 2-ой алгоритм"
   ]
  },
  {
   "cell_type": "code",
   "execution_count": 605,
   "metadata": {},
   "outputs": [
    {
     "data": {
      "image/png": "[encoded data removed]",
      "text/plain": [
       "<Figure size 432x288 with 2 Axes>"
      ]
     },
     "metadata": {
      "needs_background": "light"
     },
     "output_type": "display_data"
    }
   ],
   "source": [
    "plt.figure()\n",
    "plot_confusion_matrix(cnf_matrix2, classes=['Negatives', 'Positives'],\n",
    "                      normalize=True,\n",
    "                      title='Normalized confusion matrix')\n",
    "\n",
    "plt.show()"
   ]
  },
  {
   "cell_type": "markdown",
   "metadata": {},
   "source": [
    "### 3-ий алгоритм"
   ]
  },
  {
   "cell_type": "code",
   "execution_count": 606,
   "metadata": {},
   "outputs": [
    {
     "data": {
      "image/png": "[encoded data removed]",
      "text/plain": [
       "<Figure size 432x288 with 2 Axes>"
      ]
     },
     "metadata": {
      "needs_background": "light"
     },
     "output_type": "display_data"
    }
   ],
   "source": [
    "plt.figure()\n",
    "plot_confusion_matrix(cnf_matrix3, classes=['Negatives', 'Positives'],\n",
    "                      normalize=True,\n",
    "                      title='Normalized confusion matrix')\n",
    "\n",
    "plt.show()"
   ]
  },
  {
   "cell_type": "markdown",
   "metadata": {},
   "source": [
    "Давайте определимся с целями нашего предсказания:\n",
    "    \n",
    "* **Вариант 1**: хотим выдать кредит максимальному числу людей среди тех, кто мог бы его вернуть. При этом не хотим много ошибаться (общее число ошибок не более 35%).\n",
    "  \n",
    "1) Мы не хотим, чтобы алгоритм много ошибался: accuracy $\\geq$ 0.65.\n",
    "\n",
    "2) Кроме того полнота должна быть как можно больше (число в левом нижнем квадрате матрицы ошибок минимально).\n",
    "\n",
    "**Задание 5.** Для каждого алгоритма найдите такой порог принятия решения, чтобы выполнялись перечисленные выше условия. Какой максимальной полноты можно добиться у каждой из моделей при условии, что accuracy $\\geq$ 0.65?\n",
    "\n",
    "**Комментарий:** порог можно искать в цикле с небольшим шагом."
   ]
  },
  {
   "cell_type": "code",
   "execution_count": 705,
   "metadata": {},
   "outputs": [
    {
     "data": {
      "text/plain": [
       "(689, 21)"
      ]
     },
     "execution_count": 705,
     "metadata": {},
     "output_type": "execute_result"
    }
   ],
   "source": [
    "df.shape"
   ]
  },
  {
   "cell_type": "code",
   "execution_count": 707,
   "metadata": {},
   "outputs": [
    {
     "name": "stdout",
     "output_type": "stream",
     "text": [
      "0.3599999999999999 0.742671009771987\n",
      "0.30999999999999994 0.8371335504885994\n",
      "0 0.1465798045602606\n"
     ]
    }
   ],
   "source": [
    "T_ans_1 = 0\n",
    "T_ans_2 = 0\n",
    "T_ans_3 = 0\n",
    "\n",
    "recall_ans_1 = recall_score(df['target'], df['pred1_classes'])\n",
    "recall_ans_2 = recall_score(df['target'], df['pred2_classes'])\n",
    "recall_ans_3 = recall_score(df['target'], df['pred3_classes'])\n",
    "\n",
    "lol = [\"pred1_probs\", \"pred2_probs\", \"pred3_probs\"]\n",
    "lol_classes = [\"pred1_classes\", \"pred2_classes\", \"pred3_classes\"]\n",
    "recall_lol = [recall_ans_1, recall_ans_2, recall_ans_3]\n",
    "T_ans = [T_ans_1, T_ans_2, T_ans_3]\n",
    "\n",
    "for j in range(3):\n",
    "    for T in np.arange(0.1,1,0.01):\n",
    "        for i in range(689):\n",
    "            if df[lol[j]][i] >= T:\n",
    "                df[lol_classes[j]][i] = 1\n",
    "            else:\n",
    "                df[lol_classes[j]][i] = 0\n",
    "        accuracy = accuracy_score(df['target'], df[lol_classes[j]])\n",
    "        recall = recall_score(df['target'], df[lol_classes[j]])\n",
    "        if accuracy >= 0.65:\n",
    "            if recall >= recall_lol[j]:\n",
    "                T_ans[j] = T\n",
    "                recall_lol[j] = recall\n",
    "    print(T_ans[j], recall_lol[j])"
   ]
  },
  {
   "cell_type": "code",
   "execution_count": 708,
   "metadata": {},
   "outputs": [
    {
     "data": {
      "text/plain": [
       "[0.3599999999999999, 0.30999999999999994, 0]"
      ]
     },
     "execution_count": 708,
     "metadata": {},
     "output_type": "execute_result"
    }
   ],
   "source": [
    "T_ans"
   ]
  },
  {
   "cell_type": "markdown",
   "metadata": {},
   "source": [
    "**Задание 6.** Визуализируйте матрицу ошибок для каждого из трех алгоритмов с подобранным порогом."
   ]
  },
  {
   "cell_type": "code",
   "execution_count": 715,
   "metadata": {},
   "outputs": [],
   "source": [
    "new1 = np.zeros(689)\n",
    "new2= np.zeros(689)\n",
    "new3 = np.zeros(689)\n",
    "\n",
    "new1 = pd.DataFrame(data=new1, columns=[\"pred1_classes_new\"])\n",
    "new2 = pd.DataFrame(data=new2, columns=[\"pred2_classes_new\"])\n",
    "new3 = pd.DataFrame(data=new3, columns=[\"pred3_classes_new\"])\n",
    "\n",
    "df['pred1_classes_new'] = new1['pred1_classes_new'].values\n",
    "df['pred2_classes_new'] = new2['pred2_classes_new'].values\n",
    "df['pred3_classes_new'] = new3['pred3_classes_new'].values"
   ]
  },
  {
   "cell_type": "code",
   "execution_count": 719,
   "metadata": {},
   "outputs": [],
   "source": [
    "df.loc[df.pred1_probs >= T_ans[0], 'pred1_classes_new'] = 1\n",
    "df.loc[df.pred2_probs >= T_ans[1], 'pred2_classes_new'] = 1\n",
    "df.loc[df.pred3_probs >= T_ans[2], 'pred3_classes_new'] = 1"
   ]
  },
  {
   "cell_type": "code",
   "execution_count": 720,
   "metadata": {},
   "outputs": [
    {
     "data": {
      "text/html": [
       "<div>\n",
       "<style scoped>\n",
       "    .dataframe tbody tr th:only-of-type {\n",
       "        vertical-align: middle;\n",
       "    }\n",
       "\n",
       "    .dataframe tbody tr th {\n",
       "        vertical-align: top;\n",
       "    }\n",
       "\n",
       "    .dataframe thead th {\n",
       "        text-align: right;\n",
       "    }\n",
       "</style>\n",
       "<table border=\"1\" class=\"dataframe\">\n",
       "  <thead>\n",
       "    <tr style=\"text-align: right;\">\n",
       "      <th></th>\n",
       "      <th>0</th>\n",
       "      <th>1</th>\n",
       "      <th>2</th>\n",
       "      <th>3</th>\n",
       "      <th>4</th>\n",
       "      <th>5</th>\n",
       "      <th>6</th>\n",
       "      <th>7</th>\n",
       "      <th>8</th>\n",
       "      <th>9</th>\n",
       "      <th>...</th>\n",
       "      <th>target</th>\n",
       "      <th>pred1_probs</th>\n",
       "      <th>pred1_classes</th>\n",
       "      <th>pred2_probs</th>\n",
       "      <th>pred2_classes</th>\n",
       "      <th>pred3_probs</th>\n",
       "      <th>pred3_classes</th>\n",
       "      <th>pred1_classes_new</th>\n",
       "      <th>pred2_classes_new</th>\n",
       "      <th>pred3_classes_new</th>\n",
       "    </tr>\n",
       "  </thead>\n",
       "  <tbody>\n",
       "    <tr>\n",
       "      <th>0</th>\n",
       "      <td>1</td>\n",
       "      <td>22.08</td>\n",
       "      <td>11.460</td>\n",
       "      <td>2</td>\n",
       "      <td>4</td>\n",
       "      <td>4</td>\n",
       "      <td>1.585</td>\n",
       "      <td>0</td>\n",
       "      <td>0</td>\n",
       "      <td>0</td>\n",
       "      <td>...</td>\n",
       "      <td>0</td>\n",
       "      <td>0.506772</td>\n",
       "      <td>0</td>\n",
       "      <td>0.610853</td>\n",
       "      <td>0</td>\n",
       "      <td>0.375494</td>\n",
       "      <td>0</td>\n",
       "      <td>1.0</td>\n",
       "      <td>1.0</td>\n",
       "      <td>1.0</td>\n",
       "    </tr>\n",
       "    <tr>\n",
       "      <th>1</th>\n",
       "      <td>0</td>\n",
       "      <td>22.67</td>\n",
       "      <td>7.000</td>\n",
       "      <td>2</td>\n",
       "      <td>8</td>\n",
       "      <td>4</td>\n",
       "      <td>0.165</td>\n",
       "      <td>0</td>\n",
       "      <td>0</td>\n",
       "      <td>0</td>\n",
       "      <td>...</td>\n",
       "      <td>0</td>\n",
       "      <td>0.358519</td>\n",
       "      <td>0</td>\n",
       "      <td>0.185941</td>\n",
       "      <td>0</td>\n",
       "      <td>0.200975</td>\n",
       "      <td>0</td>\n",
       "      <td>0.0</td>\n",
       "      <td>0.0</td>\n",
       "      <td>1.0</td>\n",
       "    </tr>\n",
       "    <tr>\n",
       "      <th>2</th>\n",
       "      <td>0</td>\n",
       "      <td>29.58</td>\n",
       "      <td>1.750</td>\n",
       "      <td>1</td>\n",
       "      <td>4</td>\n",
       "      <td>4</td>\n",
       "      <td>1.250</td>\n",
       "      <td>0</td>\n",
       "      <td>0</td>\n",
       "      <td>0</td>\n",
       "      <td>...</td>\n",
       "      <td>0</td>\n",
       "      <td>0.358753</td>\n",
       "      <td>0</td>\n",
       "      <td>0.523009</td>\n",
       "      <td>0</td>\n",
       "      <td>0.160465</td>\n",
       "      <td>0</td>\n",
       "      <td>0.0</td>\n",
       "      <td>1.0</td>\n",
       "      <td>1.0</td>\n",
       "    </tr>\n",
       "    <tr>\n",
       "      <th>3</th>\n",
       "      <td>0</td>\n",
       "      <td>21.67</td>\n",
       "      <td>11.500</td>\n",
       "      <td>1</td>\n",
       "      <td>5</td>\n",
       "      <td>3</td>\n",
       "      <td>0.000</td>\n",
       "      <td>1</td>\n",
       "      <td>1</td>\n",
       "      <td>11</td>\n",
       "      <td>...</td>\n",
       "      <td>1</td>\n",
       "      <td>0.408729</td>\n",
       "      <td>0</td>\n",
       "      <td>0.185941</td>\n",
       "      <td>0</td>\n",
       "      <td>0.357771</td>\n",
       "      <td>0</td>\n",
       "      <td>1.0</td>\n",
       "      <td>0.0</td>\n",
       "      <td>1.0</td>\n",
       "    </tr>\n",
       "    <tr>\n",
       "      <th>4</th>\n",
       "      <td>1</td>\n",
       "      <td>20.17</td>\n",
       "      <td>8.170</td>\n",
       "      <td>2</td>\n",
       "      <td>6</td>\n",
       "      <td>4</td>\n",
       "      <td>1.960</td>\n",
       "      <td>1</td>\n",
       "      <td>1</td>\n",
       "      <td>14</td>\n",
       "      <td>...</td>\n",
       "      <td>1</td>\n",
       "      <td>0.480904</td>\n",
       "      <td>0</td>\n",
       "      <td>0.526646</td>\n",
       "      <td>0</td>\n",
       "      <td>0.260169</td>\n",
       "      <td>0</td>\n",
       "      <td>1.0</td>\n",
       "      <td>1.0</td>\n",
       "      <td>1.0</td>\n",
       "    </tr>\n",
       "    <tr>\n",
       "      <th>...</th>\n",
       "      <td>...</td>\n",
       "      <td>...</td>\n",
       "      <td>...</td>\n",
       "      <td>...</td>\n",
       "      <td>...</td>\n",
       "      <td>...</td>\n",
       "      <td>...</td>\n",
       "      <td>...</td>\n",
       "      <td>...</td>\n",
       "      <td>...</td>\n",
       "      <td>...</td>\n",
       "      <td>...</td>\n",
       "      <td>...</td>\n",
       "      <td>...</td>\n",
       "      <td>...</td>\n",
       "      <td>...</td>\n",
       "      <td>...</td>\n",
       "      <td>...</td>\n",
       "      <td>...</td>\n",
       "      <td>...</td>\n",
       "      <td>...</td>\n",
       "    </tr>\n",
       "    <tr>\n",
       "      <th>684</th>\n",
       "      <td>1</td>\n",
       "      <td>31.57</td>\n",
       "      <td>10.500</td>\n",
       "      <td>2</td>\n",
       "      <td>14</td>\n",
       "      <td>4</td>\n",
       "      <td>6.500</td>\n",
       "      <td>1</td>\n",
       "      <td>0</td>\n",
       "      <td>0</td>\n",
       "      <td>...</td>\n",
       "      <td>1</td>\n",
       "      <td>0.776376</td>\n",
       "      <td>0</td>\n",
       "      <td>0.804659</td>\n",
       "      <td>0</td>\n",
       "      <td>0.910302</td>\n",
       "      <td>0</td>\n",
       "      <td>1.0</td>\n",
       "      <td>1.0</td>\n",
       "      <td>1.0</td>\n",
       "    </tr>\n",
       "    <tr>\n",
       "      <th>685</th>\n",
       "      <td>1</td>\n",
       "      <td>20.67</td>\n",
       "      <td>0.415</td>\n",
       "      <td>2</td>\n",
       "      <td>8</td>\n",
       "      <td>4</td>\n",
       "      <td>0.125</td>\n",
       "      <td>0</td>\n",
       "      <td>0</td>\n",
       "      <td>0</td>\n",
       "      <td>...</td>\n",
       "      <td>0</td>\n",
       "      <td>0.273138</td>\n",
       "      <td>0</td>\n",
       "      <td>0.175782</td>\n",
       "      <td>0</td>\n",
       "      <td>0.139252</td>\n",
       "      <td>0</td>\n",
       "      <td>0.0</td>\n",
       "      <td>0.0</td>\n",
       "      <td>1.0</td>\n",
       "    </tr>\n",
       "    <tr>\n",
       "      <th>686</th>\n",
       "      <td>0</td>\n",
       "      <td>18.83</td>\n",
       "      <td>9.540</td>\n",
       "      <td>2</td>\n",
       "      <td>6</td>\n",
       "      <td>4</td>\n",
       "      <td>0.085</td>\n",
       "      <td>1</td>\n",
       "      <td>0</td>\n",
       "      <td>0</td>\n",
       "      <td>...</td>\n",
       "      <td>1</td>\n",
       "      <td>0.383878</td>\n",
       "      <td>0</td>\n",
       "      <td>0.185941</td>\n",
       "      <td>0</td>\n",
       "      <td>0.272625</td>\n",
       "      <td>0</td>\n",
       "      <td>1.0</td>\n",
       "      <td>0.0</td>\n",
       "      <td>1.0</td>\n",
       "    </tr>\n",
       "    <tr>\n",
       "      <th>687</th>\n",
       "      <td>0</td>\n",
       "      <td>27.42</td>\n",
       "      <td>14.500</td>\n",
       "      <td>2</td>\n",
       "      <td>14</td>\n",
       "      <td>8</td>\n",
       "      <td>3.085</td>\n",
       "      <td>1</td>\n",
       "      <td>1</td>\n",
       "      <td>1</td>\n",
       "      <td>...</td>\n",
       "      <td>1</td>\n",
       "      <td>0.645865</td>\n",
       "      <td>0</td>\n",
       "      <td>0.804659</td>\n",
       "      <td>0</td>\n",
       "      <td>0.682064</td>\n",
       "      <td>0</td>\n",
       "      <td>1.0</td>\n",
       "      <td>1.0</td>\n",
       "      <td>1.0</td>\n",
       "    </tr>\n",
       "    <tr>\n",
       "      <th>688</th>\n",
       "      <td>1</td>\n",
       "      <td>41.00</td>\n",
       "      <td>0.040</td>\n",
       "      <td>2</td>\n",
       "      <td>10</td>\n",
       "      <td>4</td>\n",
       "      <td>0.040</td>\n",
       "      <td>0</td>\n",
       "      <td>1</td>\n",
       "      <td>1</td>\n",
       "      <td>...</td>\n",
       "      <td>1</td>\n",
       "      <td>0.282730</td>\n",
       "      <td>0</td>\n",
       "      <td>0.508638</td>\n",
       "      <td>0</td>\n",
       "      <td>0.219612</td>\n",
       "      <td>0</td>\n",
       "      <td>0.0</td>\n",
       "      <td>1.0</td>\n",
       "      <td>1.0</td>\n",
       "    </tr>\n",
       "  </tbody>\n",
       "</table>\n",
       "<p>689 rows × 24 columns</p>\n",
       "</div>"
      ],
      "text/plain": [
       "     0      1       2  3   4  5      6  7  8   9  ...  target  pred1_probs  \\\n",
       "0    1  22.08  11.460  2   4  4  1.585  0  0   0  ...       0     0.506772   \n",
       "1    0  22.67   7.000  2   8  4  0.165  0  0   0  ...       0     0.358519   \n",
       "2    0  29.58   1.750  1   4  4  1.250  0  0   0  ...       0     0.358753   \n",
       "3    0  21.67  11.500  1   5  3  0.000  1  1  11  ...       1     0.408729   \n",
       "4    1  20.17   8.170  2   6  4  1.960  1  1  14  ...       1     0.480904   \n",
       "..  ..    ...     ... ..  .. ..    ... .. ..  ..  ...     ...          ...   \n",
       "684  1  31.57  10.500  2  14  4  6.500  1  0   0  ...       1     0.776376   \n",
       "685  1  20.67   0.415  2   8  4  0.125  0  0   0  ...       0     0.273138   \n",
       "686  0  18.83   9.540  2   6  4  0.085  1  0   0  ...       1     0.383878   \n",
       "687  0  27.42  14.500  2  14  8  3.085  1  1   1  ...       1     0.645865   \n",
       "688  1  41.00   0.040  2  10  4  0.040  0  1   1  ...       1     0.282730   \n",
       "\n",
       "     pred1_classes  pred2_probs  pred2_classes  pred3_probs  pred3_classes  \\\n",
       "0                0     0.610853              0     0.375494              0   \n",
       "1                0     0.185941              0     0.200975              0   \n",
       "2                0     0.523009              0     0.160465              0   \n",
       "3                0     0.185941              0     0.357771              0   \n",
       "4                0     0.526646              0     0.260169              0   \n",
       "..             ...          ...            ...          ...            ...   \n",
       "684              0     0.804659              0     0.910302              0   \n",
       "685              0     0.175782              0     0.139252              0   \n",
       "686              0     0.185941              0     0.272625              0   \n",
       "687              0     0.804659              0     0.682064              0   \n",
       "688              0     0.508638              0     0.219612              0   \n",
       "\n",
       "     pred1_classes_new  pred2_classes_new  pred3_classes_new  \n",
       "0                  1.0                1.0                1.0  \n",
       "1                  0.0                0.0                1.0  \n",
       "2                  0.0                1.0                1.0  \n",
       "3                  1.0                0.0                1.0  \n",
       "4                  1.0                1.0                1.0  \n",
       "..                 ...                ...                ...  \n",
       "684                1.0                1.0                1.0  \n",
       "685                0.0                0.0                1.0  \n",
       "686                1.0                0.0                1.0  \n",
       "687                1.0                1.0                1.0  \n",
       "688                0.0                1.0                1.0  \n",
       "\n",
       "[689 rows x 24 columns]"
      ]
     },
     "execution_count": 720,
     "metadata": {},
     "output_type": "execute_result"
    }
   ],
   "source": [
    "df"
   ]
  },
  {
   "cell_type": "code",
   "execution_count": 721,
   "metadata": {},
   "outputs": [],
   "source": [
    "cnf_matrix1n = confusion_matrix(df['target'], df['pred1_classes_new'])\n",
    "cnf_matrix2n = confusion_matrix(df['target'], df['pred2_classes_new'])\n",
    "cnf_matrix3n = confusion_matrix(df['target'], df['pred3_classes_new'])\n",
    "np.set_printoptions(precision=2)"
   ]
  },
  {
   "cell_type": "markdown",
   "metadata": {},
   "source": [
    "### 1-ый алгоритм"
   ]
  },
  {
   "cell_type": "code",
   "execution_count": 722,
   "metadata": {},
   "outputs": [
    {
     "data": {
      "image/png": "[encoded data removed]",
      "text/plain": [
       "<Figure size 432x288 with 2 Axes>"
      ]
     },
     "metadata": {
      "needs_background": "light"
     },
     "output_type": "display_data"
    }
   ],
   "source": [
    "plt.figure()\n",
    "plot_confusion_matrix(cnf_matrix1n, classes=['Negatives', 'Positives'],\n",
    "                      normalize=True,\n",
    "                      title='Normalized confusion matrix')\n",
    "\n",
    "plt.show()"
   ]
  },
  {
   "cell_type": "markdown",
   "metadata": {},
   "source": [
    "### 2-ой алгоритм"
   ]
  },
  {
   "cell_type": "code",
   "execution_count": 723,
   "metadata": {},
   "outputs": [
    {
     "data": {
      "image/png": "[encoded data removed]",
      "text/plain": [
       "<Figure size 432x288 with 2 Axes>"
      ]
     },
     "metadata": {
      "needs_background": "light"
     },
     "output_type": "display_data"
    }
   ],
   "source": [
    "plt.figure()\n",
    "plot_confusion_matrix(cnf_matrix2n, classes=['Negatives', 'Positives'],\n",
    "                      normalize=True,\n",
    "                      title='Normalized confusion matrix')\n",
    "\n",
    "plt.show()"
   ]
  },
  {
   "cell_type": "markdown",
   "metadata": {},
   "source": [
    "### 3-ий алгоритм"
   ]
  },
  {
   "cell_type": "code",
   "execution_count": 724,
   "metadata": {},
   "outputs": [
    {
     "data": {
      "image/png": "[encoded data removed]",
      "text/plain": [
       "<Figure size 432x288 with 2 Axes>"
      ]
     },
     "metadata": {
      "needs_background": "light"
     },
     "output_type": "display_data"
    }
   ],
   "source": [
    "plt.figure()\n",
    "plot_confusion_matrix(cnf_matrix3n, classes=['Negatives', 'Positives'],\n",
    "                      normalize=True,\n",
    "                      title='Normalized confusion matrix')\n",
    "\n",
    "plt.show()"
   ]
  },
  {
   "cell_type": "markdown",
   "metadata": {},
   "source": [
    "**Выводы:** здесь напишите, какая модель лучше всего справилась с поставленной задачей."
   ]
  },
  {
   "cell_type": "markdown",
   "metadata": {},
   "source": [
    "**Ответ:** Судя по максимальным значениям полноты, лучше всего справилась вторая модель. "
   ]
  },
  {
   "cell_type": "markdown",
   "metadata": {},
   "source": [
    "Наша цель может звучать и по-другому:\n",
    "    \n",
    "* **Вариант 2**: среди тех, кому модель выдает кредит, должно быть меньше всего ошибок (мало людей, кто его на самом деле не вернет - на них будем терять деньги). \n",
    "    При этом не хотим много ошибаться (общее число ошибок не более 35%).\n",
    "  \n",
    "1) Мы не хотим, чтобы алгоритм много ошибался: accuracy $\\geq$ 0.65.\n",
    "\n",
    "2) Кроме того точность должна быть как можно больше (число в правом верхнем квадрате матрицы ошибок минимально).\n",
    "\n",
    "**Задание 7.** Для каждого алгоритма найдите порог принятия решения, чтобы выполнялись перечисленные выше условия. Какой максимальной точности можно добиться у каждой из моделей при условии, что accuracy $\\geq$ 0.65? "
   ]
  },
  {
   "cell_type": "code",
   "execution_count": 725,
   "metadata": {},
   "outputs": [
    {
     "name": "stdout",
     "output_type": "stream",
     "text": [
      "0 1.0\n",
      "0.7499999999999997 0.8367346938775511\n",
      "0 0.7555555555555555\n"
     ]
    }
   ],
   "source": [
    "T_ans_1 = 0\n",
    "T_ans_2 = 0\n",
    "T_ans_3 = 0\n",
    "\n",
    "precision_ans_1 = precision_score(df['target'], df['pred1_classes'])\n",
    "precision_ans_2 = precision_score(df['target'], df['pred2_classes'])\n",
    "precision_ans_3 = precision_score(df['target'], df['pred3_classes'])\n",
    "\n",
    "lol = [\"pred1_probs\", \"pred2_probs\", \"pred3_probs\"]\n",
    "lol_classes = [\"pred1_classes\", \"pred2_classes\", \"pred3_classes\"]\n",
    "precision_lol = [precision_ans_1, precision_ans_2, precision_ans_3]\n",
    "T_ans = [T_ans_1, T_ans_2, T_ans_3]\n",
    "\n",
    "for j in range(3):\n",
    "    for T in np.arange(0.1,1,0.01):\n",
    "        for i in range(689):\n",
    "            if df[lol[j]][i] >= T:\n",
    "                df[lol_classes[j]][i] = 1\n",
    "            else:\n",
    "                df[lol_classes[j]][i] = 0\n",
    "        accuracy = accuracy_score(df['target'], df[lol_classes[j]])\n",
    "        precision = precision_score(df['target'], df[lol_classes[j]])\n",
    "        if accuracy >= 0.65:\n",
    "            if precision >= precision_lol[j]:\n",
    "                T_ans[j] = T\n",
    "                precision_lol[j] = precision\n",
    "    print(T_ans[j], precision_lol[j])"
   ]
  },
  {
   "cell_type": "markdown",
   "metadata": {},
   "source": [
    "**Задание 8.** Нарисуйте матрицы ошибок для каждого из алгоритмов с найденными значениями порога. Какая модель лучше всех справилась с этой задачей?"
   ]
  },
  {
   "cell_type": "code",
   "execution_count": 726,
   "metadata": {},
   "outputs": [],
   "source": [
    "new1 = np.zeros(689)\n",
    "new2= np.zeros(689)\n",
    "new3 = np.zeros(689)\n",
    "\n",
    "new1 = pd.DataFrame(data=new1, columns=[\"pred1_classes_new2\"])\n",
    "new2 = pd.DataFrame(data=new2, columns=[\"pred2_classes_new2\"])\n",
    "new3 = pd.DataFrame(data=new3, columns=[\"pred3_classes_new2\"])\n",
    "\n",
    "df['pred1_classes_new2'] = new1['pred1_classes_new2'].values\n",
    "df['pred2_classes_new2'] = new2['pred2_classes_new2'].values\n",
    "df['pred3_classes_new2'] = new3['pred3_classes_new2'].values"
   ]
  },
  {
   "cell_type": "code",
   "execution_count": 727,
   "metadata": {},
   "outputs": [],
   "source": [
    "df.loc[df.pred1_probs >= T_ans[0], 'pred1_classes_new2'] = 1\n",
    "df.loc[df.pred2_probs >= T_ans[1], 'pred2_classes_new2'] = 1\n",
    "df.loc[df.pred3_probs >= T_ans[2], 'pred3_classes_new2'] = 1"
   ]
  },
  {
   "cell_type": "code",
   "execution_count": 728,
   "metadata": {},
   "outputs": [],
   "source": [
    "cnf_matrix1n = confusion_matrix(df['target'], df['pred1_classes_new2'])\n",
    "cnf_matrix2n = confusion_matrix(df['target'], df['pred2_classes_new2'])\n",
    "cnf_matrix3n = confusion_matrix(df['target'], df['pred3_classes_new2'])\n",
    "np.set_printoptions(precision=2)"
   ]
  },
  {
   "cell_type": "markdown",
   "metadata": {},
   "source": [
    "### 1-ый алгоритм"
   ]
  },
  {
   "cell_type": "code",
   "execution_count": 729,
   "metadata": {},
   "outputs": [
    {
     "data": {
      "image/png": "[encoded data removed]",
      "text/plain": [
       "<Figure size 432x288 with 2 Axes>"
      ]
     },
     "metadata": {
      "needs_background": "light"
     },
     "output_type": "display_data"
    }
   ],
   "source": [
    "plt.figure()\n",
    "plot_confusion_matrix(cnf_matrix1n, classes=['Negatives', 'Positives'],\n",
    "                      normalize=True,\n",
    "                      title='Normalized confusion matrix')\n",
    "\n",
    "plt.show()"
   ]
  },
  {
   "cell_type": "markdown",
   "metadata": {},
   "source": [
    "### 2-ой алгоритм"
   ]
  },
  {
   "cell_type": "code",
   "execution_count": 730,
   "metadata": {},
   "outputs": [
    {
     "data": {
      "image/png": "[encoded data removed]",
      "text/plain": [
       "<Figure size 432x288 with 2 Axes>"
      ]
     },
     "metadata": {
      "needs_background": "light"
     },
     "output_type": "display_data"
    }
   ],
   "source": [
    "plt.figure()\n",
    "plot_confusion_matrix(cnf_matrix2n, classes=['Negatives', 'Positives'],\n",
    "                      normalize=True,\n",
    "                      title='Normalized confusion matrix')\n",
    "\n",
    "plt.show()"
   ]
  },
  {
   "cell_type": "markdown",
   "metadata": {},
   "source": [
    "### 3-ий алгоритм"
   ]
  },
  {
   "cell_type": "code",
   "execution_count": 731,
   "metadata": {},
   "outputs": [
    {
     "data": {
      "image/png": "[encoded data removed]",
      "text/plain": [
       "<Figure size 432x288 with 2 Axes>"
      ]
     },
     "metadata": {
      "needs_background": "light"
     },
     "output_type": "display_data"
    }
   ],
   "source": [
    "plt.figure()\n",
    "plot_confusion_matrix(cnf_matrix3n, classes=['Negatives', 'Positives'],\n",
    "                      normalize=True,\n",
    "                      title='Normalized confusion matrix')\n",
    "\n",
    "plt.show()"
   ]
  },
  {
   "cell_type": "markdown",
   "metadata": {},
   "source": [
    "**Ответ:** Лучше всех справилась первая модель, так как точность максимальна. "
   ]
  },
  {
   "cell_type": "markdown",
   "metadata": {},
   "source": [
    "Также (**Вариант 3**) можно потребовать, чтобы и точность, и полнота были высокими, то есть обе ошибки в матрице ошибок были маленькие. Как вариант - можно максимизировать F1-score (среднее гармоническое между точностью и полнотой).\n",
    "\n",
    "**Задание 9.** Найдите пороги для достижения максимального F1-score для каждой из трех моделей и нарисуйте матрицы ошибок. Какая модель решает поставленную задачу лучше остальных?"
   ]
  },
  {
   "cell_type": "code",
   "execution_count": 732,
   "metadata": {},
   "outputs": [
    {
     "name": "stdout",
     "output_type": "stream",
     "text": [
      "0.3599999999999999 0.6551724137931035\n",
      "0.3199999999999999 0.6990291262135923\n",
      "0 0.19318181818181815\n"
     ]
    }
   ],
   "source": [
    "T_ans_1 = 0\n",
    "T_ans_2 = 0\n",
    "T_ans_3 = 0\n",
    "\n",
    "f1_ans_1 = f1_score(df['target'], df['pred1_classes'])\n",
    "f1_ans_2 = f1_score(df['target'], df['pred2_classes'])\n",
    "f1_ans_3 = f1_score(df['target'], df['pred3_classes'])\n",
    "\n",
    "lol = [\"pred1_probs\", \"pred2_probs\", \"pred3_probs\"]\n",
    "lol_classes = [\"pred1_classes\", \"pred2_classes\", \"pred3_classes\"]\n",
    "f1_lol = [f1_ans_1, f1_ans_2, f1_ans_3]\n",
    "T_ans = [T_ans_1, T_ans_2, T_ans_3]\n",
    "\n",
    "for j in range(3):\n",
    "    for T in np.arange(0.1,1,0.01):\n",
    "        for i in range(689):\n",
    "            if df[lol[j]][i] >= T:\n",
    "                df[lol_classes[j]][i] = 1\n",
    "            else:\n",
    "                df[lol_classes[j]][i] = 0\n",
    "        accuracy = accuracy_score(df['target'], df[lol_classes[j]])\n",
    "        f1 = f1_score(df['target'], df[lol_classes[j]])\n",
    "        if accuracy >= 0.65:\n",
    "            if f1 >= f1_lol[j]:\n",
    "                T_ans[j] = T\n",
    "                f1_lol[j] = f1\n",
    "    print(T_ans[j], f1_lol[j])"
   ]
  },
  {
   "cell_type": "code",
   "execution_count": 733,
   "metadata": {},
   "outputs": [],
   "source": [
    "new1 = np.zeros(689)\n",
    "new2= np.zeros(689)\n",
    "new3 = np.zeros(689)\n",
    "\n",
    "new1 = pd.DataFrame(data=new1, columns=[\"pred1_classes_new3\"])\n",
    "new2 = pd.DataFrame(data=new2, columns=[\"pred2_classes_new3\"])\n",
    "new3 = pd.DataFrame(data=new3, columns=[\"pred3_classes_new3\"])\n",
    "\n",
    "df['pred1_classes_new3'] = new1['pred1_classes_new3'].values\n",
    "df['pred2_classes_new3'] = new2['pred2_classes_new3'].values\n",
    "df['pred3_classes_new3'] = new3['pred3_classes_new3'].values"
   ]
  },
  {
   "cell_type": "code",
   "execution_count": 734,
   "metadata": {},
   "outputs": [],
   "source": [
    "df.loc[df.pred1_probs >= T_ans[0], 'pred1_classes_new3'] = 1\n",
    "df.loc[df.pred2_probs >= T_ans[1], 'pred2_classes_new3'] = 1\n",
    "df.loc[df.pred3_probs >= T_ans[2], 'pred3_classes_new3'] = 1"
   ]
  },
  {
   "cell_type": "code",
   "execution_count": 735,
   "metadata": {},
   "outputs": [],
   "source": [
    "cnf_matrix1n = confusion_matrix(df['target'], df['pred1_classes_new3'])\n",
    "cnf_matrix2n = confusion_matrix(df['target'], df['pred2_classes_new3'])\n",
    "cnf_matrix3n = confusion_matrix(df['target'], df['pred3_classes_new3'])\n",
    "np.set_printoptions(precision=2)"
   ]
  },
  {
   "cell_type": "markdown",
   "metadata": {},
   "source": [
    "### 1-ый алгоритм"
   ]
  },
  {
   "cell_type": "code",
   "execution_count": 736,
   "metadata": {},
   "outputs": [
    {
     "data": {
      "image/png": "[encoded data removed]",
      "text/plain": [
       "<Figure size 432x288 with 2 Axes>"
      ]
     },
     "metadata": {
      "needs_background": "light"
     },
     "output_type": "display_data"
    }
   ],
   "source": [
    "plt.figure()\n",
    "plot_confusion_matrix(cnf_matrix1n, classes=['Negatives', 'Positives'],\n",
    "                      normalize=True,\n",
    "                      title='Normalized confusion matrix')\n",
    "\n",
    "plt.show()"
   ]
  },
  {
   "cell_type": "markdown",
   "metadata": {},
   "source": [
    "### 2-ой алгоритм"
   ]
  },
  {
   "cell_type": "code",
   "execution_count": 737,
   "metadata": {},
   "outputs": [
    {
     "data": {
      "image/png": "[encoded data removed]",
      "text/plain": [
       "<Figure size 432x288 with 2 Axes>"
      ]
     },
     "metadata": {
      "needs_background": "light"
     },
     "output_type": "display_data"
    }
   ],
   "source": [
    "plt.figure()\n",
    "plot_confusion_matrix(cnf_matrix2n, classes=['Negatives', 'Positives'],\n",
    "                      normalize=True,\n",
    "                      title='Normalized confusion matrix')\n",
    "\n",
    "plt.show()"
   ]
  },
  {
   "cell_type": "markdown",
   "metadata": {},
   "source": [
    "### 3-ий алгоритм"
   ]
  },
  {
   "cell_type": "code",
   "execution_count": 738,
   "metadata": {},
   "outputs": [
    {
     "data": {
      "image/png": "[encoded data removed]",
      "text/plain": [
       "<Figure size 432x288 with 2 Axes>"
      ]
     },
     "metadata": {
      "needs_background": "light"
     },
     "output_type": "display_data"
    }
   ],
   "source": [
    "plt.figure()\n",
    "plot_confusion_matrix(cnf_matrix3n, classes=['Negatives', 'Positives'],\n",
    "                      normalize=True,\n",
    "                      title='Normalized confusion matrix')\n",
    "\n",
    "plt.show()"
   ]
  },
  {
   "cell_type": "markdown",
   "metadata": {},
   "source": [
    "**Ответ:** Лучше всех справилась 2 модель, так как у нее самое большое значение f1. "
   ]
  },
  {
   "cell_type": "markdown",
   "metadata": {},
   "source": [
    "#### Кстати\n",
    "\n",
    "В python есть удобная функция classification_report, которая выводит значения нескольких метрик."
   ]
  },
  {
   "cell_type": "code",
   "execution_count": 603,
   "metadata": {},
   "outputs": [
    {
     "name": "stdout",
     "output_type": "stream",
     "text": [
      "              precision    recall  f1-score   support\n",
      "\n",
      "           0       0.65      0.84      0.73       382\n",
      "           1       0.69      0.44      0.53       307\n",
      "\n",
      "    accuracy                           0.66       689\n",
      "   macro avg       0.67      0.64      0.63       689\n",
      "weighted avg       0.67      0.66      0.65       689\n",
      "\n"
     ]
    }
   ],
   "source": [
    "from sklearn.metrics import classification_report\n",
    "\n",
    "print(classification_report(df['target'],df['pred1_classes']))"
   ]
  },
  {
   "cell_type": "markdown",
   "metadata": {},
   "source": [
    "### Обучим свою модель для предсказания target.\n",
    "\n",
    "**Задание 10.** Отнормируйте признаки в задаче и обучите логистическую регрессию предсказывать target."
   ]
  },
  {
   "cell_type": "code",
   "execution_count": 613,
   "metadata": {},
   "outputs": [],
   "source": [
    "Xnew = df[['0', '1', '2', '3', '4', '5', '6', '7', '8', '9', '10', '11', '12', '13']]\n",
    "ynew = df[['target']]"
   ]
  },
  {
   "cell_type": "code",
   "execution_count": 614,
   "metadata": {},
   "outputs": [
    {
     "data": {
      "text/html": [
       "<div>\n",
       "<style scoped>\n",
       "    .dataframe tbody tr th:only-of-type {\n",
       "        vertical-align: middle;\n",
       "    }\n",
       "\n",
       "    .dataframe tbody tr th {\n",
       "        vertical-align: top;\n",
       "    }\n",
       "\n",
       "    .dataframe thead th {\n",
       "        text-align: right;\n",
       "    }\n",
       "</style>\n",
       "<table border=\"1\" class=\"dataframe\">\n",
       "  <thead>\n",
       "    <tr style=\"text-align: right;\">\n",
       "      <th></th>\n",
       "      <th>0</th>\n",
       "      <th>1</th>\n",
       "      <th>2</th>\n",
       "      <th>3</th>\n",
       "      <th>4</th>\n",
       "      <th>5</th>\n",
       "      <th>6</th>\n",
       "      <th>7</th>\n",
       "      <th>8</th>\n",
       "      <th>9</th>\n",
       "      <th>10</th>\n",
       "      <th>11</th>\n",
       "      <th>12</th>\n",
       "      <th>13</th>\n",
       "    </tr>\n",
       "  </thead>\n",
       "  <tbody>\n",
       "    <tr>\n",
       "      <th>0</th>\n",
       "      <td>1</td>\n",
       "      <td>22.08</td>\n",
       "      <td>11.46</td>\n",
       "      <td>2</td>\n",
       "      <td>4</td>\n",
       "      <td>4</td>\n",
       "      <td>1.585</td>\n",
       "      <td>0</td>\n",
       "      <td>0</td>\n",
       "      <td>0</td>\n",
       "      <td>1</td>\n",
       "      <td>2</td>\n",
       "      <td>100</td>\n",
       "      <td>1213</td>\n",
       "    </tr>\n",
       "    <tr>\n",
       "      <th>1</th>\n",
       "      <td>0</td>\n",
       "      <td>22.67</td>\n",
       "      <td>7.00</td>\n",
       "      <td>2</td>\n",
       "      <td>8</td>\n",
       "      <td>4</td>\n",
       "      <td>0.165</td>\n",
       "      <td>0</td>\n",
       "      <td>0</td>\n",
       "      <td>0</td>\n",
       "      <td>0</td>\n",
       "      <td>2</td>\n",
       "      <td>160</td>\n",
       "      <td>1</td>\n",
       "    </tr>\n",
       "    <tr>\n",
       "      <th>2</th>\n",
       "      <td>0</td>\n",
       "      <td>29.58</td>\n",
       "      <td>1.75</td>\n",
       "      <td>1</td>\n",
       "      <td>4</td>\n",
       "      <td>4</td>\n",
       "      <td>1.250</td>\n",
       "      <td>0</td>\n",
       "      <td>0</td>\n",
       "      <td>0</td>\n",
       "      <td>1</td>\n",
       "      <td>2</td>\n",
       "      <td>280</td>\n",
       "      <td>1</td>\n",
       "    </tr>\n",
       "    <tr>\n",
       "      <th>3</th>\n",
       "      <td>0</td>\n",
       "      <td>21.67</td>\n",
       "      <td>11.50</td>\n",
       "      <td>1</td>\n",
       "      <td>5</td>\n",
       "      <td>3</td>\n",
       "      <td>0.000</td>\n",
       "      <td>1</td>\n",
       "      <td>1</td>\n",
       "      <td>11</td>\n",
       "      <td>1</td>\n",
       "      <td>2</td>\n",
       "      <td>0</td>\n",
       "      <td>1</td>\n",
       "    </tr>\n",
       "    <tr>\n",
       "      <th>4</th>\n",
       "      <td>1</td>\n",
       "      <td>20.17</td>\n",
       "      <td>8.17</td>\n",
       "      <td>2</td>\n",
       "      <td>6</td>\n",
       "      <td>4</td>\n",
       "      <td>1.960</td>\n",
       "      <td>1</td>\n",
       "      <td>1</td>\n",
       "      <td>14</td>\n",
       "      <td>0</td>\n",
       "      <td>2</td>\n",
       "      <td>60</td>\n",
       "      <td>159</td>\n",
       "    </tr>\n",
       "  </tbody>\n",
       "</table>\n",
       "</div>"
      ],
      "text/plain": [
       "   0      1      2  3  4  5      6  7  8   9  10  11   12    13\n",
       "0  1  22.08  11.46  2  4  4  1.585  0  0   0   1   2  100  1213\n",
       "1  0  22.67   7.00  2  8  4  0.165  0  0   0   0   2  160     1\n",
       "2  0  29.58   1.75  1  4  4  1.250  0  0   0   1   2  280     1\n",
       "3  0  21.67  11.50  1  5  3  0.000  1  1  11   1   2    0     1\n",
       "4  1  20.17   8.17  2  6  4  1.960  1  1  14   0   2   60   159"
      ]
     },
     "execution_count": 614,
     "metadata": {},
     "output_type": "execute_result"
    }
   ],
   "source": [
    "Xnew.head()"
   ]
  },
  {
   "cell_type": "code",
   "execution_count": 615,
   "metadata": {},
   "outputs": [
    {
     "data": {
      "text/html": [
       "<div>\n",
       "<style scoped>\n",
       "    .dataframe tbody tr th:only-of-type {\n",
       "        vertical-align: middle;\n",
       "    }\n",
       "\n",
       "    .dataframe tbody tr th {\n",
       "        vertical-align: top;\n",
       "    }\n",
       "\n",
       "    .dataframe thead th {\n",
       "        text-align: right;\n",
       "    }\n",
       "</style>\n",
       "<table border=\"1\" class=\"dataframe\">\n",
       "  <thead>\n",
       "    <tr style=\"text-align: right;\">\n",
       "      <th></th>\n",
       "      <th>target</th>\n",
       "    </tr>\n",
       "  </thead>\n",
       "  <tbody>\n",
       "    <tr>\n",
       "      <th>0</th>\n",
       "      <td>0</td>\n",
       "    </tr>\n",
       "    <tr>\n",
       "      <th>1</th>\n",
       "      <td>0</td>\n",
       "    </tr>\n",
       "    <tr>\n",
       "      <th>2</th>\n",
       "      <td>0</td>\n",
       "    </tr>\n",
       "    <tr>\n",
       "      <th>3</th>\n",
       "      <td>1</td>\n",
       "    </tr>\n",
       "    <tr>\n",
       "      <th>4</th>\n",
       "      <td>1</td>\n",
       "    </tr>\n",
       "  </tbody>\n",
       "</table>\n",
       "</div>"
      ],
      "text/plain": [
       "   target\n",
       "0       0\n",
       "1       0\n",
       "2       0\n",
       "3       1\n",
       "4       1"
      ]
     },
     "execution_count": 615,
     "metadata": {},
     "output_type": "execute_result"
    }
   ],
   "source": [
    "ynew.head()"
   ]
  },
  {
   "cell_type": "code",
   "execution_count": 617,
   "metadata": {},
   "outputs": [],
   "source": [
    "cs = CustomScaler(['0', '1', '2', '3', '4', '5', '6', '7', '8', '9', '10', '11', '12', '13'])\n",
    "Xnew = cs.fit_transform(Xnew)"
   ]
  },
  {
   "cell_type": "code",
   "execution_count": 618,
   "metadata": {},
   "outputs": [
    {
     "data": {
      "text/html": [
       "<div>\n",
       "<style scoped>\n",
       "    .dataframe tbody tr th:only-of-type {\n",
       "        vertical-align: middle;\n",
       "    }\n",
       "\n",
       "    .dataframe tbody tr th {\n",
       "        vertical-align: top;\n",
       "    }\n",
       "\n",
       "    .dataframe thead th {\n",
       "        text-align: right;\n",
       "    }\n",
       "</style>\n",
       "<table border=\"1\" class=\"dataframe\">\n",
       "  <thead>\n",
       "    <tr style=\"text-align: right;\">\n",
       "      <th></th>\n",
       "      <th>0</th>\n",
       "      <th>1</th>\n",
       "      <th>2</th>\n",
       "      <th>3</th>\n",
       "      <th>4</th>\n",
       "      <th>5</th>\n",
       "      <th>6</th>\n",
       "      <th>7</th>\n",
       "      <th>8</th>\n",
       "      <th>9</th>\n",
       "      <th>10</th>\n",
       "      <th>11</th>\n",
       "      <th>12</th>\n",
       "      <th>13</th>\n",
       "    </tr>\n",
       "  </thead>\n",
       "  <tbody>\n",
       "    <tr>\n",
       "      <th>0</th>\n",
       "      <td>0.689474</td>\n",
       "      <td>-0.800189</td>\n",
       "      <td>1.345702</td>\n",
       "      <td>0.543460</td>\n",
       "      <td>-0.915390</td>\n",
       "      <td>-0.348248</td>\n",
       "      <td>-0.190685</td>\n",
       "      <td>-1.049099</td>\n",
       "      <td>-0.865292</td>\n",
       "      <td>-0.494332</td>\n",
       "      <td>1.089634</td>\n",
       "      <td>0.238010</td>\n",
       "      <td>-0.487079</td>\n",
       "      <td>0.037071</td>\n",
       "    </tr>\n",
       "    <tr>\n",
       "      <th>1</th>\n",
       "      <td>-1.450381</td>\n",
       "      <td>-0.750225</td>\n",
       "      <td>0.449679</td>\n",
       "      <td>0.543460</td>\n",
       "      <td>0.170626</td>\n",
       "      <td>-0.348248</td>\n",
       "      <td>-0.615008</td>\n",
       "      <td>-1.049099</td>\n",
       "      <td>-0.865292</td>\n",
       "      <td>-0.494332</td>\n",
       "      <td>-0.917740</td>\n",
       "      <td>0.238010</td>\n",
       "      <td>-0.138406</td>\n",
       "      <td>-0.195561</td>\n",
       "    </tr>\n",
       "    <tr>\n",
       "      <th>2</th>\n",
       "      <td>-1.450381</td>\n",
       "      <td>-0.165051</td>\n",
       "      <td>-0.605056</td>\n",
       "      <td>-1.782279</td>\n",
       "      <td>-0.915390</td>\n",
       "      <td>-0.348248</td>\n",
       "      <td>-0.290789</td>\n",
       "      <td>-1.049099</td>\n",
       "      <td>-0.865292</td>\n",
       "      <td>-0.494332</td>\n",
       "      <td>1.089634</td>\n",
       "      <td>0.238010</td>\n",
       "      <td>0.558939</td>\n",
       "      <td>-0.195561</td>\n",
       "    </tr>\n",
       "    <tr>\n",
       "      <th>3</th>\n",
       "      <td>-1.450381</td>\n",
       "      <td>-0.834910</td>\n",
       "      <td>1.353739</td>\n",
       "      <td>-1.782279</td>\n",
       "      <td>-0.643886</td>\n",
       "      <td>-0.850220</td>\n",
       "      <td>-0.664313</td>\n",
       "      <td>0.953198</td>\n",
       "      <td>1.155679</td>\n",
       "      <td>1.768074</td>\n",
       "      <td>1.089634</td>\n",
       "      <td>0.238010</td>\n",
       "      <td>-1.068200</td>\n",
       "      <td>-0.195561</td>\n",
       "    </tr>\n",
       "    <tr>\n",
       "      <th>4</th>\n",
       "      <td>0.689474</td>\n",
       "      <td>-0.961938</td>\n",
       "      <td>0.684735</td>\n",
       "      <td>0.543460</td>\n",
       "      <td>-0.372382</td>\n",
       "      <td>-0.348248</td>\n",
       "      <td>-0.078628</td>\n",
       "      <td>0.953198</td>\n",
       "      <td>1.155679</td>\n",
       "      <td>2.385094</td>\n",
       "      <td>-0.917740</td>\n",
       "      <td>0.238010</td>\n",
       "      <td>-0.719527</td>\n",
       "      <td>-0.165234</td>\n",
       "    </tr>\n",
       "    <tr>\n",
       "      <th>...</th>\n",
       "      <td>...</td>\n",
       "      <td>...</td>\n",
       "      <td>...</td>\n",
       "      <td>...</td>\n",
       "      <td>...</td>\n",
       "      <td>...</td>\n",
       "      <td>...</td>\n",
       "      <td>...</td>\n",
       "      <td>...</td>\n",
       "      <td>...</td>\n",
       "      <td>...</td>\n",
       "      <td>...</td>\n",
       "      <td>...</td>\n",
       "      <td>...</td>\n",
       "    </tr>\n",
       "    <tr>\n",
       "      <th>684</th>\n",
       "      <td>0.689474</td>\n",
       "      <td>0.003472</td>\n",
       "      <td>1.152837</td>\n",
       "      <td>0.543460</td>\n",
       "      <td>1.799650</td>\n",
       "      <td>-0.348248</td>\n",
       "      <td>1.278011</td>\n",
       "      <td>0.953198</td>\n",
       "      <td>-0.865292</td>\n",
       "      <td>-0.494332</td>\n",
       "      <td>-0.917740</td>\n",
       "      <td>0.238010</td>\n",
       "      <td>-1.068200</td>\n",
       "      <td>-0.195561</td>\n",
       "    </tr>\n",
       "    <tr>\n",
       "      <th>685</th>\n",
       "      <td>0.689474</td>\n",
       "      <td>-0.919595</td>\n",
       "      <td>-0.873260</td>\n",
       "      <td>0.543460</td>\n",
       "      <td>0.170626</td>\n",
       "      <td>-0.348248</td>\n",
       "      <td>-0.626961</td>\n",
       "      <td>-1.049099</td>\n",
       "      <td>-0.865292</td>\n",
       "      <td>-0.494332</td>\n",
       "      <td>-0.917740</td>\n",
       "      <td>0.238010</td>\n",
       "      <td>-1.068200</td>\n",
       "      <td>-0.187115</td>\n",
       "    </tr>\n",
       "    <tr>\n",
       "      <th>686</th>\n",
       "      <td>-1.450381</td>\n",
       "      <td>-1.075416</td>\n",
       "      <td>0.959971</td>\n",
       "      <td>0.543460</td>\n",
       "      <td>-0.372382</td>\n",
       "      <td>-0.348248</td>\n",
       "      <td>-0.638914</td>\n",
       "      <td>0.953198</td>\n",
       "      <td>-0.865292</td>\n",
       "      <td>-0.494332</td>\n",
       "      <td>-0.917740</td>\n",
       "      <td>0.238010</td>\n",
       "      <td>-0.487079</td>\n",
       "      <td>-0.195561</td>\n",
       "    </tr>\n",
       "    <tr>\n",
       "      <th>687</th>\n",
       "      <td>-1.450381</td>\n",
       "      <td>-0.347971</td>\n",
       "      <td>1.956445</td>\n",
       "      <td>0.543460</td>\n",
       "      <td>1.799650</td>\n",
       "      <td>1.659642</td>\n",
       "      <td>0.257544</td>\n",
       "      <td>0.953198</td>\n",
       "      <td>1.155679</td>\n",
       "      <td>-0.288659</td>\n",
       "      <td>-0.917740</td>\n",
       "      <td>0.238010</td>\n",
       "      <td>-0.370855</td>\n",
       "      <td>-0.193449</td>\n",
       "    </tr>\n",
       "    <tr>\n",
       "      <th>688</th>\n",
       "      <td>0.689474</td>\n",
       "      <td>0.802053</td>\n",
       "      <td>-0.948599</td>\n",
       "      <td>0.543460</td>\n",
       "      <td>0.713634</td>\n",
       "      <td>-0.348248</td>\n",
       "      <td>-0.652360</td>\n",
       "      <td>-1.049099</td>\n",
       "      <td>1.155679</td>\n",
       "      <td>-0.288659</td>\n",
       "      <td>-0.917740</td>\n",
       "      <td>-3.108701</td>\n",
       "      <td>2.186078</td>\n",
       "      <td>-0.195561</td>\n",
       "    </tr>\n",
       "  </tbody>\n",
       "</table>\n",
       "<p>689 rows × 14 columns</p>\n",
       "</div>"
      ],
      "text/plain": [
       "            0         1         2         3         4         5         6  \\\n",
       "0    0.689474 -0.800189  1.345702  0.543460 -0.915390 -0.348248 -0.190685   \n",
       "1   -1.450381 -0.750225  0.449679  0.543460  0.170626 -0.348248 -0.615008   \n",
       "2   -1.450381 -0.165051 -0.605056 -1.782279 -0.915390 -0.348248 -0.290789   \n",
       "3   -1.450381 -0.834910  1.353739 -1.782279 -0.643886 -0.850220 -0.664313   \n",
       "4    0.689474 -0.961938  0.684735  0.543460 -0.372382 -0.348248 -0.078628   \n",
       "..        ...       ...       ...       ...       ...       ...       ...   \n",
       "684  0.689474  0.003472  1.152837  0.543460  1.799650 -0.348248  1.278011   \n",
       "685  0.689474 -0.919595 -0.873260  0.543460  0.170626 -0.348248 -0.626961   \n",
       "686 -1.450381 -1.075416  0.959971  0.543460 -0.372382 -0.348248 -0.638914   \n",
       "687 -1.450381 -0.347971  1.956445  0.543460  1.799650  1.659642  0.257544   \n",
       "688  0.689474  0.802053 -0.948599  0.543460  0.713634 -0.348248 -0.652360   \n",
       "\n",
       "            7         8         9        10        11        12        13  \n",
       "0   -1.049099 -0.865292 -0.494332  1.089634  0.238010 -0.487079  0.037071  \n",
       "1   -1.049099 -0.865292 -0.494332 -0.917740  0.238010 -0.138406 -0.195561  \n",
       "2   -1.049099 -0.865292 -0.494332  1.089634  0.238010  0.558939 -0.195561  \n",
       "3    0.953198  1.155679  1.768074  1.089634  0.238010 -1.068200 -0.195561  \n",
       "4    0.953198  1.155679  2.385094 -0.917740  0.238010 -0.719527 -0.165234  \n",
       "..        ...       ...       ...       ...       ...       ...       ...  \n",
       "684  0.953198 -0.865292 -0.494332 -0.917740  0.238010 -1.068200 -0.195561  \n",
       "685 -1.049099 -0.865292 -0.494332 -0.917740  0.238010 -1.068200 -0.187115  \n",
       "686  0.953198 -0.865292 -0.494332 -0.917740  0.238010 -0.487079 -0.195561  \n",
       "687  0.953198  1.155679 -0.288659 -0.917740  0.238010 -0.370855 -0.193449  \n",
       "688 -1.049099  1.155679 -0.288659 -0.917740 -3.108701  2.186078 -0.195561  \n",
       "\n",
       "[689 rows x 14 columns]"
      ]
     },
     "execution_count": 618,
     "metadata": {},
     "output_type": "execute_result"
    }
   ],
   "source": [
    "Xnew"
   ]
  },
  {
   "cell_type": "code",
   "execution_count": 619,
   "metadata": {},
   "outputs": [
    {
     "name": "stdout",
     "output_type": "stream",
     "text": [
      "best score: 0.8650375542155929\n",
      "best params: {'C': 0.1}\n"
     ]
    }
   ],
   "source": [
    "model = LogisticRegression(solver='lbfgs', multi_class='auto')\n",
    "params = {'C': np.arange(0.1, 1.1, 0.1)}\n",
    "grid = GridSearchCV(model, params)\n",
    "\n",
    "grid.fit(Xnew, ynew)\n",
    "\n",
    "print('best score:', grid.best_score_)\n",
    "print('best params:', grid.best_params_)"
   ]
  },
  {
   "cell_type": "code",
   "execution_count": 620,
   "metadata": {},
   "outputs": [],
   "source": [
    "Xtrain3, Xtest3, ytrain3, ytest3 = train_test_split(Xnew, ynew, test_size=0.3)"
   ]
  },
  {
   "cell_type": "code",
   "execution_count": 621,
   "metadata": {},
   "outputs": [
    {
     "data": {
      "text/plain": [
       "(0.8624708624708625, 0.8387096774193549)"
      ]
     },
     "execution_count": 621,
     "metadata": {},
     "output_type": "execute_result"
    }
   ],
   "source": [
    "model = LogisticRegression(solver='lbfgs', multi_class='auto', C=0.1)\n",
    "model.fit(Xtrain3, ytrain3)\n",
    "\n",
    "pred_train_last = model.predict(Xtrain3)\n",
    "pred_test_last = model.predict(Xtest3)\n",
    "\n",
    "f1_score(ytrain3, pred_train_last), f1_score(ytest3, pred_test_last)"
   ]
  },
  {
   "cell_type": "markdown",
   "metadata": {},
   "source": [
    "**Задание 11.** Подберите порог для перевода предсказания в классы, чтобы максимизировать:\n",
    "    а) точность \n",
    "    б) полноту \n",
    "    в) f1-score. \n",
    "Лучше ли логистическая регрессия справилась с задачей, чем три готовые модели, предсказания которых мы анализировали выше?"
   ]
  },
  {
   "cell_type": "code",
   "execution_count": null,
   "metadata": {},
   "outputs": [],
   "source": [
    "#your code here"
   ]
  }
 ],
 "metadata": {
  "kernelspec": {
   "display_name": "Python 3",
   "language": "python",
   "name": "python3"
  },
  "language_info": {
   "codemirror_mode": {
    "name": "ipython",
    "version": 3
   },
   "file_extension": ".py",
   "mimetype": "text/x-python",
   "name": "python",
   "nbconvert_exporter": "python",
   "pygments_lexer": "ipython3",
   "version": "3.8.8"
  }
 },
 "nbformat": 4,
 "nbformat_minor": 2
}
